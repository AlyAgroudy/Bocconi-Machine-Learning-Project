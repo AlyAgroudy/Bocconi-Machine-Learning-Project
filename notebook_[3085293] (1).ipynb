{
 "cells": [
  {
   "cell_type": "markdown",
   "metadata": {},
   "source": [
    "# DESCRIPTION\n",
    "This dataset is composed of 1300 samples with 30 features each. The first column is the sample id. The second column in the dataset represents the label. There are 3 possible values for the labels. The remaining columns are numeric features.\n",
    "\n",
    "Your task is the following: assuming that you want to classify this data with a Random Forest (implemented by sklearn.ensemble.ExtraTreesClassifier), you should determine whether applying PCA to this dataset is useful, and if so what number of components you would choose to use. At the end of the analysis, you should have chosen an optimal strategy, including the optimal set of parameters for the classifier: write this choice explicitly in the conclusions of your notebook.\n",
    "\n",
    "Your notebook should detail the procedure you have used to choose the optimal parameters (graphs are a good idea when possible/sensible).\n",
    "\n",
    "The notebook will be evaluated not only based on the final results, but also on the procedure employed, which should balance practical considerations (one may not be able to exhaustively explore all possible combinations of the parameters) with the desire for achieving the best possible performance in the least amount of time.\n",
    "\n",
    "Bonus points may be assigned for particularly clean/nifty code and/or well- presented results.\n",
    "\n",
    "You are also free to attempt other strategies beyond the one in the assignment (which however is mandatory!)."
   ]
  },
  {
   "cell_type": "code",
   "execution_count": 1,
   "metadata": {},
   "outputs": [],
   "source": [
    "import numpy as np\n",
    "import pandas as pd\n",
    "import sklearn\n",
    "import matplotlib as mpl\n",
    "import matplotlib.pyplot as plt"
   ]
  },
  {
   "cell_type": "markdown",
   "metadata": {},
   "source": [
    "# Get The Data"
   ]
  },
  {
   "cell_type": "code",
   "execution_count": 2,
   "metadata": {},
   "outputs": [
    {
     "data": {
      "text/html": [
       "<div>\n",
       "<style scoped>\n",
       "    .dataframe tbody tr th:only-of-type {\n",
       "        vertical-align: middle;\n",
       "    }\n",
       "\n",
       "    .dataframe tbody tr th {\n",
       "        vertical-align: top;\n",
       "    }\n",
       "\n",
       "    .dataframe thead th {\n",
       "        text-align: right;\n",
       "    }\n",
       "</style>\n",
       "<table border=\"1\" class=\"dataframe\">\n",
       "  <thead>\n",
       "    <tr style=\"text-align: right;\">\n",
       "      <th></th>\n",
       "      <th>Unnamed: 0</th>\n",
       "      <th>label</th>\n",
       "      <th>feature_1</th>\n",
       "      <th>feature_2</th>\n",
       "      <th>feature_3</th>\n",
       "      <th>feature_4</th>\n",
       "      <th>feature_5</th>\n",
       "      <th>feature_6</th>\n",
       "      <th>feature_7</th>\n",
       "      <th>feature_8</th>\n",
       "      <th>...</th>\n",
       "      <th>feature_21</th>\n",
       "      <th>feature_22</th>\n",
       "      <th>feature_23</th>\n",
       "      <th>feature_24</th>\n",
       "      <th>feature_25</th>\n",
       "      <th>feature_26</th>\n",
       "      <th>feature_27</th>\n",
       "      <th>feature_28</th>\n",
       "      <th>feature_29</th>\n",
       "      <th>feature_30</th>\n",
       "    </tr>\n",
       "  </thead>\n",
       "  <tbody>\n",
       "    <tr>\n",
       "      <th>0</th>\n",
       "      <td>0</td>\n",
       "      <td>0</td>\n",
       "      <td>1.236409</td>\n",
       "      <td>0.771355</td>\n",
       "      <td>-2.868882</td>\n",
       "      <td>-0.274193</td>\n",
       "      <td>-4.462532</td>\n",
       "      <td>0.877284</td>\n",
       "      <td>-1.015337</td>\n",
       "      <td>-1.118017</td>\n",
       "      <td>...</td>\n",
       "      <td>-0.039983</td>\n",
       "      <td>-0.009710</td>\n",
       "      <td>-2.705795</td>\n",
       "      <td>-0.690361</td>\n",
       "      <td>-0.316339</td>\n",
       "      <td>-0.414878</td>\n",
       "      <td>-0.955152</td>\n",
       "      <td>2.316707</td>\n",
       "      <td>0.783080</td>\n",
       "      <td>-0.126626</td>\n",
       "    </tr>\n",
       "    <tr>\n",
       "      <th>1</th>\n",
       "      <td>1</td>\n",
       "      <td>0</td>\n",
       "      <td>-0.942554</td>\n",
       "      <td>-2.020196</td>\n",
       "      <td>1.441681</td>\n",
       "      <td>-1.951818</td>\n",
       "      <td>5.257332</td>\n",
       "      <td>-1.179665</td>\n",
       "      <td>2.213923</td>\n",
       "      <td>4.120665</td>\n",
       "      <td>...</td>\n",
       "      <td>1.823328</td>\n",
       "      <td>-0.994799</td>\n",
       "      <td>7.438069</td>\n",
       "      <td>-0.013862</td>\n",
       "      <td>3.063861</td>\n",
       "      <td>0.620853</td>\n",
       "      <td>3.785254</td>\n",
       "      <td>1.340708</td>\n",
       "      <td>-0.597570</td>\n",
       "      <td>-0.693184</td>\n",
       "    </tr>\n",
       "    <tr>\n",
       "      <th>2</th>\n",
       "      <td>2</td>\n",
       "      <td>2</td>\n",
       "      <td>-5.138842</td>\n",
       "      <td>1.931266</td>\n",
       "      <td>-0.116477</td>\n",
       "      <td>0.238987</td>\n",
       "      <td>3.653463</td>\n",
       "      <td>-0.217843</td>\n",
       "      <td>2.080201</td>\n",
       "      <td>-0.618279</td>\n",
       "      <td>...</td>\n",
       "      <td>-0.296020</td>\n",
       "      <td>1.631100</td>\n",
       "      <td>4.281124</td>\n",
       "      <td>1.209495</td>\n",
       "      <td>2.686192</td>\n",
       "      <td>-0.375291</td>\n",
       "      <td>-0.311236</td>\n",
       "      <td>0.027892</td>\n",
       "      <td>0.793402</td>\n",
       "      <td>-0.263684</td>\n",
       "    </tr>\n",
       "    <tr>\n",
       "      <th>3</th>\n",
       "      <td>3</td>\n",
       "      <td>1</td>\n",
       "      <td>5.107390</td>\n",
       "      <td>2.174468</td>\n",
       "      <td>-0.530112</td>\n",
       "      <td>-2.022942</td>\n",
       "      <td>-1.170979</td>\n",
       "      <td>1.451811</td>\n",
       "      <td>0.290078</td>\n",
       "      <td>-4.685610</td>\n",
       "      <td>...</td>\n",
       "      <td>-1.952075</td>\n",
       "      <td>-0.832772</td>\n",
       "      <td>-4.948900</td>\n",
       "      <td>-1.089610</td>\n",
       "      <td>0.600683</td>\n",
       "      <td>-0.495996</td>\n",
       "      <td>1.013603</td>\n",
       "      <td>-0.309740</td>\n",
       "      <td>2.869062</td>\n",
       "      <td>4.331348</td>\n",
       "    </tr>\n",
       "    <tr>\n",
       "      <th>4</th>\n",
       "      <td>4</td>\n",
       "      <td>1</td>\n",
       "      <td>-4.554848</td>\n",
       "      <td>0.704647</td>\n",
       "      <td>2.259577</td>\n",
       "      <td>0.720146</td>\n",
       "      <td>2.997572</td>\n",
       "      <td>-1.962074</td>\n",
       "      <td>-5.670781</td>\n",
       "      <td>-0.078485</td>\n",
       "      <td>...</td>\n",
       "      <td>-0.399755</td>\n",
       "      <td>-0.094618</td>\n",
       "      <td>4.385029</td>\n",
       "      <td>0.977540</td>\n",
       "      <td>0.397214</td>\n",
       "      <td>-1.427414</td>\n",
       "      <td>3.225752</td>\n",
       "      <td>-2.823368</td>\n",
       "      <td>-0.182694</td>\n",
       "      <td>-0.616885</td>\n",
       "    </tr>\n",
       "  </tbody>\n",
       "</table>\n",
       "<p>5 rows × 32 columns</p>\n",
       "</div>"
      ],
      "text/plain": [
       "   Unnamed: 0  label  feature_1  feature_2  feature_3  feature_4  feature_5  \\\n",
       "0           0      0   1.236409   0.771355  -2.868882  -0.274193  -4.462532   \n",
       "1           1      0  -0.942554  -2.020196   1.441681  -1.951818   5.257332   \n",
       "2           2      2  -5.138842   1.931266  -0.116477   0.238987   3.653463   \n",
       "3           3      1   5.107390   2.174468  -0.530112  -2.022942  -1.170979   \n",
       "4           4      1  -4.554848   0.704647   2.259577   0.720146   2.997572   \n",
       "\n",
       "   feature_6  feature_7  feature_8  ...  feature_21  feature_22  feature_23  \\\n",
       "0   0.877284  -1.015337  -1.118017  ...   -0.039983   -0.009710   -2.705795   \n",
       "1  -1.179665   2.213923   4.120665  ...    1.823328   -0.994799    7.438069   \n",
       "2  -0.217843   2.080201  -0.618279  ...   -0.296020    1.631100    4.281124   \n",
       "3   1.451811   0.290078  -4.685610  ...   -1.952075   -0.832772   -4.948900   \n",
       "4  -1.962074  -5.670781  -0.078485  ...   -0.399755   -0.094618    4.385029   \n",
       "\n",
       "   feature_24  feature_25  feature_26  feature_27  feature_28  feature_29  \\\n",
       "0   -0.690361   -0.316339   -0.414878   -0.955152    2.316707    0.783080   \n",
       "1   -0.013862    3.063861    0.620853    3.785254    1.340708   -0.597570   \n",
       "2    1.209495    2.686192   -0.375291   -0.311236    0.027892    0.793402   \n",
       "3   -1.089610    0.600683   -0.495996    1.013603   -0.309740    2.869062   \n",
       "4    0.977540    0.397214   -1.427414    3.225752   -2.823368   -0.182694   \n",
       "\n",
       "   feature_30  \n",
       "0   -0.126626  \n",
       "1   -0.693184  \n",
       "2   -0.263684  \n",
       "3    4.331348  \n",
       "4   -0.616885  \n",
       "\n",
       "[5 rows x 32 columns]"
      ]
     },
     "execution_count": 2,
     "metadata": {},
     "output_type": "execute_result"
    }
   ],
   "source": [
    "dataset = pd.read_csv(\"C:/mldata_0023085293.csv\")\n",
    "dataset.head()"
   ]
  },
  {
   "cell_type": "markdown",
   "metadata": {},
   "source": [
    "# Prepare The Data for Machine Learning"
   ]
  },
  {
   "cell_type": "code",
   "execution_count": 3,
   "metadata": {},
   "outputs": [
    {
     "data": {
      "text/html": [
       "<div>\n",
       "<style scoped>\n",
       "    .dataframe tbody tr th:only-of-type {\n",
       "        vertical-align: middle;\n",
       "    }\n",
       "\n",
       "    .dataframe tbody tr th {\n",
       "        vertical-align: top;\n",
       "    }\n",
       "\n",
       "    .dataframe thead th {\n",
       "        text-align: right;\n",
       "    }\n",
       "</style>\n",
       "<table border=\"1\" class=\"dataframe\">\n",
       "  <thead>\n",
       "    <tr style=\"text-align: right;\">\n",
       "      <th></th>\n",
       "      <th>label</th>\n",
       "      <th>feature_1</th>\n",
       "      <th>feature_2</th>\n",
       "      <th>feature_3</th>\n",
       "      <th>feature_4</th>\n",
       "      <th>feature_5</th>\n",
       "      <th>feature_6</th>\n",
       "      <th>feature_7</th>\n",
       "      <th>feature_8</th>\n",
       "      <th>feature_9</th>\n",
       "      <th>...</th>\n",
       "      <th>feature_21</th>\n",
       "      <th>feature_22</th>\n",
       "      <th>feature_23</th>\n",
       "      <th>feature_24</th>\n",
       "      <th>feature_25</th>\n",
       "      <th>feature_26</th>\n",
       "      <th>feature_27</th>\n",
       "      <th>feature_28</th>\n",
       "      <th>feature_29</th>\n",
       "      <th>feature_30</th>\n",
       "    </tr>\n",
       "  </thead>\n",
       "  <tbody>\n",
       "    <tr>\n",
       "      <th>0</th>\n",
       "      <td>0</td>\n",
       "      <td>1.236409</td>\n",
       "      <td>0.771355</td>\n",
       "      <td>-2.868882</td>\n",
       "      <td>-0.274193</td>\n",
       "      <td>-4.462532</td>\n",
       "      <td>0.877284</td>\n",
       "      <td>-1.015337</td>\n",
       "      <td>-1.118017</td>\n",
       "      <td>-3.985804</td>\n",
       "      <td>...</td>\n",
       "      <td>-0.039983</td>\n",
       "      <td>-0.009710</td>\n",
       "      <td>-2.705795</td>\n",
       "      <td>-0.690361</td>\n",
       "      <td>-0.316339</td>\n",
       "      <td>-0.414878</td>\n",
       "      <td>-0.955152</td>\n",
       "      <td>2.316707</td>\n",
       "      <td>0.783080</td>\n",
       "      <td>-0.126626</td>\n",
       "    </tr>\n",
       "    <tr>\n",
       "      <th>1</th>\n",
       "      <td>0</td>\n",
       "      <td>-0.942554</td>\n",
       "      <td>-2.020196</td>\n",
       "      <td>1.441681</td>\n",
       "      <td>-1.951818</td>\n",
       "      <td>5.257332</td>\n",
       "      <td>-1.179665</td>\n",
       "      <td>2.213923</td>\n",
       "      <td>4.120665</td>\n",
       "      <td>10.022119</td>\n",
       "      <td>...</td>\n",
       "      <td>1.823328</td>\n",
       "      <td>-0.994799</td>\n",
       "      <td>7.438069</td>\n",
       "      <td>-0.013862</td>\n",
       "      <td>3.063861</td>\n",
       "      <td>0.620853</td>\n",
       "      <td>3.785254</td>\n",
       "      <td>1.340708</td>\n",
       "      <td>-0.597570</td>\n",
       "      <td>-0.693184</td>\n",
       "    </tr>\n",
       "    <tr>\n",
       "      <th>2</th>\n",
       "      <td>2</td>\n",
       "      <td>-5.138842</td>\n",
       "      <td>1.931266</td>\n",
       "      <td>-0.116477</td>\n",
       "      <td>0.238987</td>\n",
       "      <td>3.653463</td>\n",
       "      <td>-0.217843</td>\n",
       "      <td>2.080201</td>\n",
       "      <td>-0.618279</td>\n",
       "      <td>5.065894</td>\n",
       "      <td>...</td>\n",
       "      <td>-0.296020</td>\n",
       "      <td>1.631100</td>\n",
       "      <td>4.281124</td>\n",
       "      <td>1.209495</td>\n",
       "      <td>2.686192</td>\n",
       "      <td>-0.375291</td>\n",
       "      <td>-0.311236</td>\n",
       "      <td>0.027892</td>\n",
       "      <td>0.793402</td>\n",
       "      <td>-0.263684</td>\n",
       "    </tr>\n",
       "    <tr>\n",
       "      <th>3</th>\n",
       "      <td>1</td>\n",
       "      <td>5.107390</td>\n",
       "      <td>2.174468</td>\n",
       "      <td>-0.530112</td>\n",
       "      <td>-2.022942</td>\n",
       "      <td>-1.170979</td>\n",
       "      <td>1.451811</td>\n",
       "      <td>0.290078</td>\n",
       "      <td>-4.685610</td>\n",
       "      <td>-8.296903</td>\n",
       "      <td>...</td>\n",
       "      <td>-1.952075</td>\n",
       "      <td>-0.832772</td>\n",
       "      <td>-4.948900</td>\n",
       "      <td>-1.089610</td>\n",
       "      <td>0.600683</td>\n",
       "      <td>-0.495996</td>\n",
       "      <td>1.013603</td>\n",
       "      <td>-0.309740</td>\n",
       "      <td>2.869062</td>\n",
       "      <td>4.331348</td>\n",
       "    </tr>\n",
       "    <tr>\n",
       "      <th>4</th>\n",
       "      <td>1</td>\n",
       "      <td>-4.554848</td>\n",
       "      <td>0.704647</td>\n",
       "      <td>2.259577</td>\n",
       "      <td>0.720146</td>\n",
       "      <td>2.997572</td>\n",
       "      <td>-1.962074</td>\n",
       "      <td>-5.670781</td>\n",
       "      <td>-0.078485</td>\n",
       "      <td>-0.737029</td>\n",
       "      <td>...</td>\n",
       "      <td>-0.399755</td>\n",
       "      <td>-0.094618</td>\n",
       "      <td>4.385029</td>\n",
       "      <td>0.977540</td>\n",
       "      <td>0.397214</td>\n",
       "      <td>-1.427414</td>\n",
       "      <td>3.225752</td>\n",
       "      <td>-2.823368</td>\n",
       "      <td>-0.182694</td>\n",
       "      <td>-0.616885</td>\n",
       "    </tr>\n",
       "  </tbody>\n",
       "</table>\n",
       "<p>5 rows × 31 columns</p>\n",
       "</div>"
      ],
      "text/plain": [
       "   label  feature_1  feature_2  feature_3  feature_4  feature_5  feature_6  \\\n",
       "0      0   1.236409   0.771355  -2.868882  -0.274193  -4.462532   0.877284   \n",
       "1      0  -0.942554  -2.020196   1.441681  -1.951818   5.257332  -1.179665   \n",
       "2      2  -5.138842   1.931266  -0.116477   0.238987   3.653463  -0.217843   \n",
       "3      1   5.107390   2.174468  -0.530112  -2.022942  -1.170979   1.451811   \n",
       "4      1  -4.554848   0.704647   2.259577   0.720146   2.997572  -1.962074   \n",
       "\n",
       "   feature_7  feature_8  feature_9  ...  feature_21  feature_22  feature_23  \\\n",
       "0  -1.015337  -1.118017  -3.985804  ...   -0.039983   -0.009710   -2.705795   \n",
       "1   2.213923   4.120665  10.022119  ...    1.823328   -0.994799    7.438069   \n",
       "2   2.080201  -0.618279   5.065894  ...   -0.296020    1.631100    4.281124   \n",
       "3   0.290078  -4.685610  -8.296903  ...   -1.952075   -0.832772   -4.948900   \n",
       "4  -5.670781  -0.078485  -0.737029  ...   -0.399755   -0.094618    4.385029   \n",
       "\n",
       "   feature_24  feature_25  feature_26  feature_27  feature_28  feature_29  \\\n",
       "0   -0.690361   -0.316339   -0.414878   -0.955152    2.316707    0.783080   \n",
       "1   -0.013862    3.063861    0.620853    3.785254    1.340708   -0.597570   \n",
       "2    1.209495    2.686192   -0.375291   -0.311236    0.027892    0.793402   \n",
       "3   -1.089610    0.600683   -0.495996    1.013603   -0.309740    2.869062   \n",
       "4    0.977540    0.397214   -1.427414    3.225752   -2.823368   -0.182694   \n",
       "\n",
       "   feature_30  \n",
       "0   -0.126626  \n",
       "1   -0.693184  \n",
       "2   -0.263684  \n",
       "3    4.331348  \n",
       "4   -0.616885  \n",
       "\n",
       "[5 rows x 31 columns]"
      ]
     },
     "execution_count": 3,
     "metadata": {},
     "output_type": "execute_result"
    }
   ],
   "source": [
    "features_and_labels = dataset.drop(['Unnamed: 0'], axis = 1)\n",
    "features_and_labels.head(5)"
   ]
  },
  {
   "cell_type": "code",
   "execution_count": 4,
   "metadata": {},
   "outputs": [],
   "source": [
    "features = features_and_labels.iloc[:,1:32]\n",
    "labels = features_and_labels.iloc[:,0]"
   ]
  },
  {
   "cell_type": "code",
   "execution_count": 5,
   "metadata": {},
   "outputs": [
    {
     "data": {
      "text/html": [
       "<div>\n",
       "<style scoped>\n",
       "    .dataframe tbody tr th:only-of-type {\n",
       "        vertical-align: middle;\n",
       "    }\n",
       "\n",
       "    .dataframe tbody tr th {\n",
       "        vertical-align: top;\n",
       "    }\n",
       "\n",
       "    .dataframe thead th {\n",
       "        text-align: right;\n",
       "    }\n",
       "</style>\n",
       "<table border=\"1\" class=\"dataframe\">\n",
       "  <thead>\n",
       "    <tr style=\"text-align: right;\">\n",
       "      <th></th>\n",
       "      <th>feature_1</th>\n",
       "      <th>feature_2</th>\n",
       "      <th>feature_3</th>\n",
       "      <th>feature_4</th>\n",
       "      <th>feature_5</th>\n",
       "      <th>feature_6</th>\n",
       "      <th>feature_7</th>\n",
       "      <th>feature_8</th>\n",
       "      <th>feature_9</th>\n",
       "      <th>feature_10</th>\n",
       "      <th>...</th>\n",
       "      <th>feature_21</th>\n",
       "      <th>feature_22</th>\n",
       "      <th>feature_23</th>\n",
       "      <th>feature_24</th>\n",
       "      <th>feature_25</th>\n",
       "      <th>feature_26</th>\n",
       "      <th>feature_27</th>\n",
       "      <th>feature_28</th>\n",
       "      <th>feature_29</th>\n",
       "      <th>feature_30</th>\n",
       "    </tr>\n",
       "  </thead>\n",
       "  <tbody>\n",
       "    <tr>\n",
       "      <th>count</th>\n",
       "      <td>1300.000000</td>\n",
       "      <td>1300.000000</td>\n",
       "      <td>1300.000000</td>\n",
       "      <td>1300.000000</td>\n",
       "      <td>1300.000000</td>\n",
       "      <td>1300.000000</td>\n",
       "      <td>1300.000000</td>\n",
       "      <td>1300.000000</td>\n",
       "      <td>1300.000000</td>\n",
       "      <td>1300.000000</td>\n",
       "      <td>...</td>\n",
       "      <td>1300.000000</td>\n",
       "      <td>1300.000000</td>\n",
       "      <td>1300.000000</td>\n",
       "      <td>1300.000000</td>\n",
       "      <td>1300.000000</td>\n",
       "      <td>1300.000000</td>\n",
       "      <td>1300.000000</td>\n",
       "      <td>1300.000000</td>\n",
       "      <td>1300.000000</td>\n",
       "      <td>1300.000000</td>\n",
       "    </tr>\n",
       "    <tr>\n",
       "      <th>mean</th>\n",
       "      <td>-0.343441</td>\n",
       "      <td>-0.028582</td>\n",
       "      <td>0.651257</td>\n",
       "      <td>0.042763</td>\n",
       "      <td>-0.055769</td>\n",
       "      <td>0.116125</td>\n",
       "      <td>-0.091992</td>\n",
       "      <td>0.564160</td>\n",
       "      <td>0.725847</td>\n",
       "      <td>-0.541544</td>\n",
       "      <td>...</td>\n",
       "      <td>0.111770</td>\n",
       "      <td>0.060081</td>\n",
       "      <td>0.491759</td>\n",
       "      <td>0.077744</td>\n",
       "      <td>0.658472</td>\n",
       "      <td>0.095017</td>\n",
       "      <td>0.040942</td>\n",
       "      <td>-0.301614</td>\n",
       "      <td>-0.221538</td>\n",
       "      <td>-0.067193</td>\n",
       "    </tr>\n",
       "    <tr>\n",
       "      <th>std</th>\n",
       "      <td>4.522785</td>\n",
       "      <td>2.199578</td>\n",
       "      <td>2.334690</td>\n",
       "      <td>0.947141</td>\n",
       "      <td>4.729897</td>\n",
       "      <td>1.018678</td>\n",
       "      <td>2.261370</td>\n",
       "      <td>2.256805</td>\n",
       "      <td>5.262772</td>\n",
       "      <td>5.488509</td>\n",
       "      <td>...</td>\n",
       "      <td>0.992386</td>\n",
       "      <td>0.972629</td>\n",
       "      <td>4.542981</td>\n",
       "      <td>1.005193</td>\n",
       "      <td>2.219331</td>\n",
       "      <td>0.953503</td>\n",
       "      <td>2.566552</td>\n",
       "      <td>2.446555</td>\n",
       "      <td>2.455131</td>\n",
       "      <td>2.347758</td>\n",
       "    </tr>\n",
       "    <tr>\n",
       "      <th>min</th>\n",
       "      <td>-14.587881</td>\n",
       "      <td>-7.019306</td>\n",
       "      <td>-7.403795</td>\n",
       "      <td>-2.996129</td>\n",
       "      <td>-15.269710</td>\n",
       "      <td>-2.735459</td>\n",
       "      <td>-6.766467</td>\n",
       "      <td>-7.837455</td>\n",
       "      <td>-14.915020</td>\n",
       "      <td>-18.837965</td>\n",
       "      <td>...</td>\n",
       "      <td>-2.773053</td>\n",
       "      <td>-3.068873</td>\n",
       "      <td>-13.049808</td>\n",
       "      <td>-3.429527</td>\n",
       "      <td>-5.890095</td>\n",
       "      <td>-2.744412</td>\n",
       "      <td>-8.496302</td>\n",
       "      <td>-7.453862</td>\n",
       "      <td>-8.146613</td>\n",
       "      <td>-8.473661</td>\n",
       "    </tr>\n",
       "    <tr>\n",
       "      <th>25%</th>\n",
       "      <td>-3.290708</td>\n",
       "      <td>-1.412309</td>\n",
       "      <td>-0.946001</td>\n",
       "      <td>-0.548070</td>\n",
       "      <td>-3.158695</td>\n",
       "      <td>-0.560071</td>\n",
       "      <td>-1.561373</td>\n",
       "      <td>-0.937777</td>\n",
       "      <td>-2.879963</td>\n",
       "      <td>-4.351741</td>\n",
       "      <td>...</td>\n",
       "      <td>-0.514728</td>\n",
       "      <td>-0.592599</td>\n",
       "      <td>-2.486859</td>\n",
       "      <td>-0.601804</td>\n",
       "      <td>-0.782608</td>\n",
       "      <td>-0.530373</td>\n",
       "      <td>-1.664993</td>\n",
       "      <td>-1.988786</td>\n",
       "      <td>-1.918682</td>\n",
       "      <td>-1.672422</td>\n",
       "    </tr>\n",
       "    <tr>\n",
       "      <th>50%</th>\n",
       "      <td>-0.130467</td>\n",
       "      <td>-0.071427</td>\n",
       "      <td>0.750441</td>\n",
       "      <td>0.033857</td>\n",
       "      <td>0.048830</td>\n",
       "      <td>0.140070</td>\n",
       "      <td>-0.018848</td>\n",
       "      <td>0.637414</td>\n",
       "      <td>0.468357</td>\n",
       "      <td>-0.753899</td>\n",
       "      <td>...</td>\n",
       "      <td>0.131210</td>\n",
       "      <td>0.063980</td>\n",
       "      <td>0.538049</td>\n",
       "      <td>0.049241</td>\n",
       "      <td>0.627762</td>\n",
       "      <td>0.069855</td>\n",
       "      <td>0.078482</td>\n",
       "      <td>-0.362535</td>\n",
       "      <td>-0.280480</td>\n",
       "      <td>-0.196361</td>\n",
       "    </tr>\n",
       "    <tr>\n",
       "      <th>75%</th>\n",
       "      <td>2.615608</td>\n",
       "      <td>1.371803</td>\n",
       "      <td>2.345049</td>\n",
       "      <td>0.678203</td>\n",
       "      <td>3.297426</td>\n",
       "      <td>0.818290</td>\n",
       "      <td>1.478352</td>\n",
       "      <td>2.136164</td>\n",
       "      <td>4.132365</td>\n",
       "      <td>3.222928</td>\n",
       "      <td>...</td>\n",
       "      <td>0.776825</td>\n",
       "      <td>0.671024</td>\n",
       "      <td>3.590753</td>\n",
       "      <td>0.711522</td>\n",
       "      <td>2.090479</td>\n",
       "      <td>0.726776</td>\n",
       "      <td>1.800349</td>\n",
       "      <td>1.366996</td>\n",
       "      <td>1.448886</td>\n",
       "      <td>1.419888</td>\n",
       "    </tr>\n",
       "    <tr>\n",
       "      <th>max</th>\n",
       "      <td>16.436794</td>\n",
       "      <td>6.431381</td>\n",
       "      <td>8.041613</td>\n",
       "      <td>3.354414</td>\n",
       "      <td>16.224226</td>\n",
       "      <td>3.744849</td>\n",
       "      <td>7.721547</td>\n",
       "      <td>7.006356</td>\n",
       "      <td>18.647380</td>\n",
       "      <td>17.790120</td>\n",
       "      <td>...</td>\n",
       "      <td>3.347421</td>\n",
       "      <td>4.600935</td>\n",
       "      <td>15.728791</td>\n",
       "      <td>3.089469</td>\n",
       "      <td>7.771095</td>\n",
       "      <td>3.335487</td>\n",
       "      <td>7.004255</td>\n",
       "      <td>7.317670</td>\n",
       "      <td>7.218143</td>\n",
       "      <td>9.129724</td>\n",
       "    </tr>\n",
       "  </tbody>\n",
       "</table>\n",
       "<p>8 rows × 30 columns</p>\n",
       "</div>"
      ],
      "text/plain": [
       "         feature_1    feature_2    feature_3    feature_4    feature_5  \\\n",
       "count  1300.000000  1300.000000  1300.000000  1300.000000  1300.000000   \n",
       "mean     -0.343441    -0.028582     0.651257     0.042763    -0.055769   \n",
       "std       4.522785     2.199578     2.334690     0.947141     4.729897   \n",
       "min     -14.587881    -7.019306    -7.403795    -2.996129   -15.269710   \n",
       "25%      -3.290708    -1.412309    -0.946001    -0.548070    -3.158695   \n",
       "50%      -0.130467    -0.071427     0.750441     0.033857     0.048830   \n",
       "75%       2.615608     1.371803     2.345049     0.678203     3.297426   \n",
       "max      16.436794     6.431381     8.041613     3.354414    16.224226   \n",
       "\n",
       "         feature_6    feature_7    feature_8    feature_9   feature_10  ...  \\\n",
       "count  1300.000000  1300.000000  1300.000000  1300.000000  1300.000000  ...   \n",
       "mean      0.116125    -0.091992     0.564160     0.725847    -0.541544  ...   \n",
       "std       1.018678     2.261370     2.256805     5.262772     5.488509  ...   \n",
       "min      -2.735459    -6.766467    -7.837455   -14.915020   -18.837965  ...   \n",
       "25%      -0.560071    -1.561373    -0.937777    -2.879963    -4.351741  ...   \n",
       "50%       0.140070    -0.018848     0.637414     0.468357    -0.753899  ...   \n",
       "75%       0.818290     1.478352     2.136164     4.132365     3.222928  ...   \n",
       "max       3.744849     7.721547     7.006356    18.647380    17.790120  ...   \n",
       "\n",
       "        feature_21   feature_22   feature_23   feature_24   feature_25  \\\n",
       "count  1300.000000  1300.000000  1300.000000  1300.000000  1300.000000   \n",
       "mean      0.111770     0.060081     0.491759     0.077744     0.658472   \n",
       "std       0.992386     0.972629     4.542981     1.005193     2.219331   \n",
       "min      -2.773053    -3.068873   -13.049808    -3.429527    -5.890095   \n",
       "25%      -0.514728    -0.592599    -2.486859    -0.601804    -0.782608   \n",
       "50%       0.131210     0.063980     0.538049     0.049241     0.627762   \n",
       "75%       0.776825     0.671024     3.590753     0.711522     2.090479   \n",
       "max       3.347421     4.600935    15.728791     3.089469     7.771095   \n",
       "\n",
       "        feature_26   feature_27   feature_28   feature_29   feature_30  \n",
       "count  1300.000000  1300.000000  1300.000000  1300.000000  1300.000000  \n",
       "mean      0.095017     0.040942    -0.301614    -0.221538    -0.067193  \n",
       "std       0.953503     2.566552     2.446555     2.455131     2.347758  \n",
       "min      -2.744412    -8.496302    -7.453862    -8.146613    -8.473661  \n",
       "25%      -0.530373    -1.664993    -1.988786    -1.918682    -1.672422  \n",
       "50%       0.069855     0.078482    -0.362535    -0.280480    -0.196361  \n",
       "75%       0.726776     1.800349     1.366996     1.448886     1.419888  \n",
       "max       3.335487     7.004255     7.317670     7.218143     9.129724  \n",
       "\n",
       "[8 rows x 30 columns]"
      ]
     },
     "execution_count": 5,
     "metadata": {},
     "output_type": "execute_result"
    }
   ],
   "source": [
    "features.describe()"
   ]
  },
  {
   "cell_type": "code",
   "execution_count": 6,
   "metadata": {},
   "outputs": [
    {
     "data": {
      "text/plain": [
       "label         1.000000\n",
       "feature_29    0.240976\n",
       "feature_11    0.158991\n",
       "feature_5     0.157257\n",
       "feature_15    0.121522\n",
       "feature_9     0.112581\n",
       "feature_12    0.093571\n",
       "feature_23    0.087008\n",
       "feature_2     0.054666\n",
       "feature_22    0.051342\n",
       "feature_10    0.049764\n",
       "feature_13    0.044283\n",
       "feature_14    0.038441\n",
       "feature_18    0.036718\n",
       "feature_21    0.029893\n",
       "feature_27    0.029467\n",
       "feature_30    0.025187\n",
       "feature_17    0.025187\n",
       "feature_4     0.023791\n",
       "feature_20    0.012903\n",
       "feature_16    0.004724\n",
       "feature_24   -0.004720\n",
       "feature_3    -0.009498\n",
       "feature_8    -0.013126\n",
       "feature_6    -0.016001\n",
       "feature_28   -0.030383\n",
       "feature_26   -0.035883\n",
       "feature_7    -0.101819\n",
       "feature_25   -0.111536\n",
       "feature_19   -0.117933\n",
       "feature_1    -0.222850\n",
       "Name: label, dtype: float64"
      ]
     },
     "execution_count": 6,
     "metadata": {},
     "output_type": "execute_result"
    }
   ],
   "source": [
    "#correlation matrix for basic analysis of data\n",
    "\n",
    "corr_matrix = features_and_labels.corr()\n",
    "corr_matrix['label'].sort_values(ascending=False)"
   ]
  },
  {
   "cell_type": "markdown",
   "metadata": {},
   "source": [
    "First we do a basic ExtraTreesClassifier model without hyperparameter tuning or PCA and use that as our baseline for improvement"
   ]
  },
  {
   "cell_type": "markdown",
   "metadata": {},
   "source": [
    "# Baseline ExtraTrees Model"
   ]
  },
  {
   "cell_type": "code",
   "execution_count": 7,
   "metadata": {},
   "outputs": [
    {
     "name": "stdout",
     "output_type": "stream",
     "text": [
      "(1040, 30)\n",
      "(260, 30)\n"
     ]
    }
   ],
   "source": [
    "#perform train/test split and scale the data\n",
    "\n",
    "from sklearn.preprocessing import StandardScaler\n",
    "from sklearn.model_selection import train_test_split\n",
    "\n",
    "\n",
    "train_set , test_set = train_test_split(features_and_labels, test_size = 0.2, random_state = 42)\n",
    "\n",
    "train_set_features = train_set.drop(columns = 'label')\n",
    "train_set_labels = train_set['label']\n",
    "test_set_features = test_set.drop(columns = 'label')\n",
    "test_set_labels = test_set['label']\n",
    "\n",
    "print(train_set_features.shape)\n",
    "print(test_set_features.shape)"
   ]
  },
  {
   "cell_type": "markdown",
   "metadata": {},
   "source": [
    "We will not standardise or do PCA on the whole data set, instead we will split first to avoid information about the distribution of the test set leaking into the model"
   ]
  },
  {
   "cell_type": "code",
   "execution_count": 8,
   "metadata": {},
   "outputs": [
    {
     "name": "stdout",
     "output_type": "stream",
     "text": [
      "(1040, 30)\n",
      "(260, 30)\n"
     ]
    }
   ],
   "source": [
    "scaler = StandardScaler()\n",
    "\n",
    "x_train_std = scaler.fit_transform(train_set_features)\n",
    "\n",
    "x_test_std = scaler.transform(test_set_features)\n",
    "\n",
    "print(x_train_std.shape)\n",
    "print(x_test_std.shape)"
   ]
  },
  {
   "cell_type": "code",
   "execution_count": 9,
   "metadata": {},
   "outputs": [
    {
     "data": {
      "text/plain": [
       "array([-2.04964251e-17, -1.45183011e-17,  1.36642834e-17, -2.56205313e-17,\n",
       "        2.39124959e-17, -2.22044605e-17,  1.19562480e-17, -1.28102657e-18,\n",
       "        1.70803542e-17, -1.02482125e-17, -6.83214169e-18, -3.41607085e-18,\n",
       "        0.00000000e+00,  2.39124959e-17,  8.54017711e-18,  2.22044605e-17,\n",
       "        6.83214169e-18,  1.70803542e-17,  0.00000000e+00, -2.04964251e-17,\n",
       "       -1.36642834e-17,  8.54017711e-19,  2.56205313e-18, -2.39124959e-17,\n",
       "        1.28102657e-17, -1.36642834e-17, -1.70803542e-18,  2.90366022e-17,\n",
       "       -3.41607085e-18,  6.83214169e-18])"
      ]
     },
     "execution_count": 9,
     "metadata": {},
     "output_type": "execute_result"
    }
   ],
   "source": [
    "x_train_std.mean(axis=0)"
   ]
  },
  {
   "cell_type": "code",
   "execution_count": 10,
   "metadata": {},
   "outputs": [],
   "source": [
    "y_train = train_set_labels\n",
    "y_test = test_set_labels"
   ]
  },
  {
   "cell_type": "code",
   "execution_count": 11,
   "metadata": {},
   "outputs": [
    {
     "data": {
      "text/plain": [
       "ExtraTreesClassifier(bootstrap=False, class_weight=None, criterion='gini',\n",
       "                     max_depth=None, max_features='auto', max_leaf_nodes=None,\n",
       "                     min_impurity_decrease=0.0, min_impurity_split=None,\n",
       "                     min_samples_leaf=1, min_samples_split=2,\n",
       "                     min_weight_fraction_leaf=0.0, n_estimators=100,\n",
       "                     n_jobs=None, oob_score=False, random_state=42, verbose=0,\n",
       "                     warm_start=False)"
      ]
     },
     "execution_count": 11,
     "metadata": {},
     "output_type": "execute_result"
    }
   ],
   "source": [
    "from sklearn.ensemble import ExtraTreesClassifier\n",
    "\n",
    "clf = ExtraTreesClassifier(n_estimators = 100, random_state = 42)\n",
    "clf.fit(x_train_std, y_train)"
   ]
  },
  {
   "cell_type": "markdown",
   "metadata": {},
   "source": [
    "# Accuracy Measures for Baseline Classifier"
   ]
  },
  {
   "cell_type": "code",
   "execution_count": 12,
   "metadata": {},
   "outputs": [
    {
     "name": "stdout",
     "output_type": "stream",
     "text": [
      "0.7307692307692307\n"
     ]
    }
   ],
   "source": [
    "from sklearn.metrics import accuracy_score\n",
    "\n",
    "y_predictions = clf.predict(x_test_std)\n",
    "\n",
    "print(accuracy_score(y_test, y_predictions))"
   ]
  },
  {
   "cell_type": "code",
   "execution_count": 13,
   "metadata": {},
   "outputs": [
    {
     "data": {
      "text/plain": [
       "array([0.75478927, 0.75769231, 0.71153846, 0.72972973])"
      ]
     },
     "execution_count": 13,
     "metadata": {},
     "output_type": "execute_result"
    }
   ],
   "source": [
    "from sklearn.model_selection import cross_val_score\n",
    "cross_val_score(clf, x_train_std, y_train, cv=4, scoring = 'accuracy')"
   ]
  },
  {
   "cell_type": "code",
   "execution_count": 14,
   "metadata": {},
   "outputs": [
    {
     "data": {
      "text/plain": [
       "0.7311249796714914"
      ]
     },
     "execution_count": 14,
     "metadata": {},
     "output_type": "execute_result"
    }
   ],
   "source": [
    "from sklearn.metrics import precision_score, recall_score, f1_score\n",
    "\n",
    "precision_score(y_test, y_predictions, average = 'weighted')"
   ]
  },
  {
   "cell_type": "code",
   "execution_count": 15,
   "metadata": {},
   "outputs": [
    {
     "data": {
      "text/plain": [
       "0.7307692307692307"
      ]
     },
     "execution_count": 15,
     "metadata": {},
     "output_type": "execute_result"
    }
   ],
   "source": [
    "recall_score(y_test, y_predictions, average = 'weighted')"
   ]
  },
  {
   "cell_type": "code",
   "execution_count": 16,
   "metadata": {},
   "outputs": [
    {
     "data": {
      "text/plain": [
       "0.7308318541712372"
      ]
     },
     "execution_count": 16,
     "metadata": {},
     "output_type": "execute_result"
    }
   ],
   "source": [
    "f1_score(y_test, y_predictions, average = 'weighted')"
   ]
  },
  {
   "cell_type": "markdown",
   "metadata": {},
   "source": [
    "# Fine Tune the Model"
   ]
  },
  {
   "cell_type": "markdown",
   "metadata": {},
   "source": [
    "Tune the model for a better accuracy score: Start with randomized search to get an idea where the best hyperparamteres lie, then use more specific grid search technique"
   ]
  },
  {
   "cell_type": "code",
   "execution_count": 17,
   "metadata": {},
   "outputs": [
    {
     "name": "stdout",
     "output_type": "stream",
     "text": [
      "{'n_estimators': [100, 200, 300, 400, 500, 600, 700, 800, 900, 1000, 1100, 1200, 1300, 1400, 1500, 1600, 1700, 1800, 1900, 2000], 'max_features': ['log2', 'sqrt', None], 'max_depth': [10, 20, 30, 40, 50, 60, 70, 80, 90, 100, 110, None], 'min_samples_split': [2, 5, 10], 'min_samples_leaf': [1, 2, 4], 'bootstrap': [True, False]}\n"
     ]
    }
   ],
   "source": [
    "from sklearn.model_selection import RandomizedSearchCV\n",
    "\n",
    "n_estimators = [int(x) for x in np.linspace(start = 100, stop = 2000, num = 20)]\n",
    "\n",
    "max_features = ['log2', 'sqrt']\n",
    "max_features.append(None)\n",
    "\n",
    "max_depth = [int(x) for x in np.linspace(10, 110, num = 11)]\n",
    "max_depth.append(None)\n",
    "\n",
    "min_samples_split = [2, 5, 10]\n",
    "\n",
    "min_samples_leaf = [1, 2, 4]\n",
    "\n",
    "bootstrap = [True, False]\n",
    "\n",
    "param_grid = { 'n_estimators': n_estimators,\n",
    "               'max_features': max_features,\n",
    "               'max_depth': max_depth,\n",
    "               'min_samples_split': min_samples_split,\n",
    "               'min_samples_leaf': min_samples_leaf,\n",
    "               'bootstrap': bootstrap} \n",
    "print(param_grid)"
   ]
  },
  {
   "cell_type": "code",
   "execution_count": 18,
   "metadata": {},
   "outputs": [
    {
     "name": "stdout",
     "output_type": "stream",
     "text": [
      "Fitting 3 folds for each of 300 candidates, totalling 900 fits\n"
     ]
    },
    {
     "name": "stderr",
     "output_type": "stream",
     "text": [
      "[Parallel(n_jobs=-1)]: Using backend LokyBackend with 8 concurrent workers.\n",
      "[Parallel(n_jobs=-1)]: Done  25 tasks      | elapsed:    4.9s\n",
      "[Parallel(n_jobs=-1)]: Done 146 tasks      | elapsed:   22.7s\n",
      "[Parallel(n_jobs=-1)]: Done 349 tasks      | elapsed:   50.7s\n",
      "[Parallel(n_jobs=-1)]: Done 632 tasks      | elapsed:  1.5min\n",
      "[Parallel(n_jobs=-1)]: Done 900 out of 900 | elapsed:  2.2min finished\n"
     ]
    },
    {
     "data": {
      "text/plain": [
       "RandomizedSearchCV(cv=3, error_score='raise-deprecating',\n",
       "                   estimator=ExtraTreesClassifier(bootstrap=False,\n",
       "                                                  class_weight=None,\n",
       "                                                  criterion='gini',\n",
       "                                                  max_depth=None,\n",
       "                                                  max_features='auto',\n",
       "                                                  max_leaf_nodes=None,\n",
       "                                                  min_impurity_decrease=0.0,\n",
       "                                                  min_impurity_split=None,\n",
       "                                                  min_samples_leaf=1,\n",
       "                                                  min_samples_split=2,\n",
       "                                                  min_weight_fraction_leaf=0.0,\n",
       "                                                  n_estimators='warn',\n",
       "                                                  n_jobs=None, oob_sco...\n",
       "                                        'max_depth': [10, 20, 30, 40, 50, 60,\n",
       "                                                      70, 80, 90, 100, 110,\n",
       "                                                      None],\n",
       "                                        'max_features': ['log2', 'sqrt', None],\n",
       "                                        'min_samples_leaf': [1, 2, 4],\n",
       "                                        'min_samples_split': [2, 5, 10],\n",
       "                                        'n_estimators': [100, 200, 300, 400,\n",
       "                                                         500, 600, 700, 800,\n",
       "                                                         900, 1000, 1100, 1200,\n",
       "                                                         1300, 1400, 1500, 1600,\n",
       "                                                         1700, 1800, 1900,\n",
       "                                                         2000]},\n",
       "                   pre_dispatch='2*n_jobs', random_state=42, refit=True,\n",
       "                   return_train_score=False, scoring='accuracy', verbose=2)"
      ]
     },
     "execution_count": 18,
     "metadata": {},
     "output_type": "execute_result"
    }
   ],
   "source": [
    "clf_RCV = ExtraTreesClassifier(random_state = 42)\n",
    "clf_RCV = RandomizedSearchCV(estimator = clf_RCV, param_distributions = param_grid, cv = 3, verbose = 2, \n",
    "                                  random_state = 42 , n_iter = 300, n_jobs = -1, scoring = 'accuracy')\n",
    "clf_RCV.fit(x_train_std, y_train)"
   ]
  },
  {
   "cell_type": "code",
   "execution_count": 19,
   "metadata": {},
   "outputs": [
    {
     "data": {
      "text/plain": [
       "{'n_estimators': 800,\n",
       " 'min_samples_split': 2,\n",
       " 'min_samples_leaf': 1,\n",
       " 'max_features': 'sqrt',\n",
       " 'max_depth': 80,\n",
       " 'bootstrap': False}"
      ]
     },
     "execution_count": 19,
     "metadata": {},
     "output_type": "execute_result"
    }
   ],
   "source": [
    "clf_RCV.best_params_"
   ]
  },
  {
   "cell_type": "code",
   "execution_count": 20,
   "metadata": {},
   "outputs": [
    {
     "name": "stdout",
     "output_type": "stream",
     "text": [
      "0.7384615384615385\n"
     ]
    }
   ],
   "source": [
    "test_set_predictions_RCV = clf_RCV.best_estimator_.predict(x_test_std)\n",
    "print(accuracy_score(y_test, test_set_predictions_RCV))"
   ]
  },
  {
   "cell_type": "code",
   "execution_count": 21,
   "metadata": {},
   "outputs": [
    {
     "data": {
      "text/plain": [
       "array([0.74712644, 0.77692308, 0.76923077, 0.72972973])"
      ]
     },
     "execution_count": 21,
     "metadata": {},
     "output_type": "execute_result"
    }
   ],
   "source": [
    "cross_val_score(clf_RCV.best_estimator_, x_train_std, y_train, cv=4, scoring = 'accuracy')"
   ]
  },
  {
   "cell_type": "markdown",
   "metadata": {},
   "source": [
    "slight improvement over basic model, now we specify a narrower range for hyperparameters and use grid search"
   ]
  },
  {
   "cell_type": "code",
   "execution_count": 22,
   "metadata": {},
   "outputs": [],
   "source": [
    "from sklearn.model_selection import GridSearchCV\n",
    "\n",
    "# Create the parameter grid based on the results of random search \n",
    "param_grid_2 = {\n",
    "    'bootstrap': [False],\n",
    "    'max_depth': [20, 30, 40, 70, 80, 90, None],\n",
    "    'max_features': ['sqrt'],\n",
    "    'min_samples_leaf': [1,2,3],\n",
    "    'min_samples_split': [2,4,6],\n",
    "    'n_estimators': [ 700,800,900,1000,1100 ],\n",
    "    'criterion':['gini']\n",
    "}"
   ]
  },
  {
   "cell_type": "code",
   "execution_count": 23,
   "metadata": {},
   "outputs": [
    {
     "name": "stdout",
     "output_type": "stream",
     "text": [
      "Fitting 3 folds for each of 315 candidates, totalling 945 fits\n"
     ]
    },
    {
     "name": "stderr",
     "output_type": "stream",
     "text": [
      "[Parallel(n_jobs=-1)]: Using backend LokyBackend with 8 concurrent workers.\n",
      "[Parallel(n_jobs=-1)]: Done  25 tasks      | elapsed:    3.2s\n",
      "[Parallel(n_jobs=-1)]: Done 146 tasks      | elapsed:   15.9s\n",
      "[Parallel(n_jobs=-1)]: Done 349 tasks      | elapsed:   37.3s\n",
      "[Parallel(n_jobs=-1)]: Done 632 tasks      | elapsed:  1.1min\n",
      "[Parallel(n_jobs=-1)]: Done 945 out of 945 | elapsed:  1.7min finished\n"
     ]
    },
    {
     "data": {
      "text/plain": [
       "GridSearchCV(cv=3, error_score='raise-deprecating',\n",
       "             estimator=ExtraTreesClassifier(bootstrap=False, class_weight=None,\n",
       "                                            criterion='gini', max_depth=None,\n",
       "                                            max_features='auto',\n",
       "                                            max_leaf_nodes=None,\n",
       "                                            min_impurity_decrease=0.0,\n",
       "                                            min_impurity_split=None,\n",
       "                                            min_samples_leaf=1,\n",
       "                                            min_samples_split=2,\n",
       "                                            min_weight_fraction_leaf=0.0,\n",
       "                                            n_estimators='warn', n_jobs=None,\n",
       "                                            oob_score=Fal...42,\n",
       "                                            verbose=0, warm_start=False),\n",
       "             iid='warn', n_jobs=-1,\n",
       "             param_grid={'bootstrap': [False], 'criterion': ['gini'],\n",
       "                         'max_depth': [20, 30, 40, 70, 80, 90, None],\n",
       "                         'max_features': ['sqrt'],\n",
       "                         'min_samples_leaf': [1, 2, 3],\n",
       "                         'min_samples_split': [2, 4, 6],\n",
       "                         'n_estimators': [700, 800, 900, 1000, 1100]},\n",
       "             pre_dispatch='2*n_jobs', refit=True, return_train_score=False,\n",
       "             scoring='accuracy', verbose=2)"
      ]
     },
     "execution_count": 23,
     "metadata": {},
     "output_type": "execute_result"
    }
   ],
   "source": [
    "clf_GCV = ExtraTreesClassifier(random_state = 42)\n",
    "clf_GCV = GridSearchCV(estimator = clf_GCV, param_grid = param_grid_2, cv = 3, verbose = 2, \n",
    "                                    n_jobs = -1, scoring = 'accuracy')\n",
    "clf_GCV.fit(x_train_std, y_train)"
   ]
  },
  {
   "cell_type": "code",
   "execution_count": 24,
   "metadata": {},
   "outputs": [
    {
     "data": {
      "text/plain": [
       "{'bootstrap': False,\n",
       " 'criterion': 'gini',\n",
       " 'max_depth': 30,\n",
       " 'max_features': 'sqrt',\n",
       " 'min_samples_leaf': 1,\n",
       " 'min_samples_split': 2,\n",
       " 'n_estimators': 800}"
      ]
     },
     "execution_count": 24,
     "metadata": {},
     "output_type": "execute_result"
    }
   ],
   "source": [
    "clf_GCV.best_params_"
   ]
  },
  {
   "cell_type": "markdown",
   "metadata": {},
   "source": [
    "# Accuracy Measures After Hyperparameter Tuning"
   ]
  },
  {
   "cell_type": "code",
   "execution_count": 25,
   "metadata": {},
   "outputs": [
    {
     "name": "stdout",
     "output_type": "stream",
     "text": [
      "0.7384615384615385\n"
     ]
    }
   ],
   "source": [
    "test_set_predictions_GCV = clf_GCV.best_estimator_.predict(x_test_std)\n",
    "print(accuracy_score(y_test, test_set_predictions_GCV))"
   ]
  },
  {
   "cell_type": "code",
   "execution_count": 26,
   "metadata": {},
   "outputs": [
    {
     "data": {
      "text/plain": [
       "array([0.74712644, 0.78076923, 0.76923077, 0.72972973])"
      ]
     },
     "execution_count": 26,
     "metadata": {},
     "output_type": "execute_result"
    }
   ],
   "source": [
    "cross_val_score(clf_GCV.best_estimator_, x_train_std, y_train, cv=4, scoring = 'accuracy')"
   ]
  },
  {
   "cell_type": "code",
   "execution_count": 27,
   "metadata": {},
   "outputs": [
    {
     "data": {
      "text/plain": [
       "0.7396919398989658"
      ]
     },
     "execution_count": 27,
     "metadata": {},
     "output_type": "execute_result"
    }
   ],
   "source": [
    "precision_score(y_test, test_set_predictions_GCV, average = 'weighted')"
   ]
  },
  {
   "cell_type": "code",
   "execution_count": 28,
   "metadata": {},
   "outputs": [
    {
     "data": {
      "text/plain": [
       "0.7384615384615385"
      ]
     },
     "execution_count": 28,
     "metadata": {},
     "output_type": "execute_result"
    }
   ],
   "source": [
    "recall_score(y_test, test_set_predictions_GCV, average = 'weighted')"
   ]
  },
  {
   "cell_type": "code",
   "execution_count": 29,
   "metadata": {},
   "outputs": [
    {
     "data": {
      "text/plain": [
       "0.7388692960785983"
      ]
     },
     "execution_count": 29,
     "metadata": {},
     "output_type": "execute_result"
    }
   ],
   "source": [
    "f1_score(y_test, test_set_predictions_GCV, average = 'weighted')"
   ]
  },
  {
   "cell_type": "markdown",
   "metadata": {},
   "source": [
    "As we can see, there is a slight improvement over the basic model when we use grid search"
   ]
  },
  {
   "cell_type": "markdown",
   "metadata": {},
   "source": [
    "# Now Perform PCA for Efficiency and Visualisation"
   ]
  },
  {
   "cell_type": "code",
   "execution_count": 30,
   "metadata": {},
   "outputs": [
    {
     "data": {
      "text/plain": [
       "PCA(copy=True, iterated_power='auto', n_components=30, random_state=None,\n",
       "    svd_solver='auto', tol=0.0, whiten=False)"
      ]
     },
     "execution_count": 30,
     "metadata": {},
     "output_type": "execute_result"
    }
   ],
   "source": [
    "from sklearn.decomposition import PCA\n",
    "\n",
    "pca_30 = PCA(30)\n",
    "\n",
    "pca_30.fit(x_train_std)"
   ]
  },
  {
   "cell_type": "code",
   "execution_count": 31,
   "metadata": {},
   "outputs": [
    {
     "data": {
      "text/plain": [
       "(1040, 30)"
      ]
     },
     "execution_count": 31,
     "metadata": {},
     "output_type": "execute_result"
    }
   ],
   "source": [
    "x_train_reduced = pca_30.transform(x_train_std)\n",
    "x_train_reduced.shape"
   ]
  },
  {
   "cell_type": "code",
   "execution_count": 32,
   "metadata": {},
   "outputs": [
    {
     "data": {
      "image/png": "[encoded data removed]",
      "text/plain": [
       "<Figure size 432x288 with 1 Axes>"
      ]
     },
     "metadata": {},
     "output_type": "display_data"
    }
   ],
   "source": [
    "plt.style.use('fivethirtyeight')\n",
    "plt.plot(range(0, len(pca_30.explained_variance_)), pca_30.explained_variance_)\n",
    "plt.xlabel(\"Component\")\n",
    "plt.ylabel(\"Explained Variance\")\n",
    "plt.show()"
   ]
  },
  {
   "cell_type": "markdown",
   "metadata": {},
   "source": [
    "Graph above shows that atleast 6 features do not explain the variance in the model"
   ]
  },
  {
   "cell_type": "markdown",
   "metadata": {},
   "source": [
    "To make sure no features were dropped from the model we use the equation below which should equate to ~1:"
   ]
  },
  {
   "cell_type": "code",
   "execution_count": 33,
   "metadata": {},
   "outputs": [
    {
     "name": "stdout",
     "output_type": "stream",
     "text": [
      "1.0009624639076027\n"
     ]
    }
   ],
   "source": [
    "print(np.sum(pca_30.explained_variance_)/np.sum(np.var(x_train_std, axis=0)))"
   ]
  },
  {
   "cell_type": "markdown",
   "metadata": {},
   "source": [
    "# Fit the Data with PCA = 0.95"
   ]
  },
  {
   "cell_type": "code",
   "execution_count": 34,
   "metadata": {},
   "outputs": [
    {
     "data": {
      "text/plain": [
       "PCA(copy=True, iterated_power='auto', n_components=0.95, random_state=None,\n",
       "    svd_solver='auto', tol=0.0, whiten=False)"
      ]
     },
     "execution_count": 34,
     "metadata": {},
     "output_type": "execute_result"
    }
   ],
   "source": [
    "pca_95 = PCA(n_components = 0.95)\n",
    "\n",
    "pca_95.fit(x_train_std)"
   ]
  },
  {
   "cell_type": "code",
   "execution_count": 35,
   "metadata": {},
   "outputs": [
    {
     "name": "stdout",
     "output_type": "stream",
     "text": [
      "0.9613981361157004\n"
     ]
    }
   ],
   "source": [
    "print(np.sum(pca_95.explained_variance_)/np.sum(np.var(x_train_std, axis=0)))"
   ]
  },
  {
   "cell_type": "markdown",
   "metadata": {},
   "source": [
    "~95% of our variance in the labels is explained by the new reduced features"
   ]
  },
  {
   "cell_type": "code",
   "execution_count": 36,
   "metadata": {},
   "outputs": [
    {
     "data": {
      "text/plain": [
       "(22, 30)"
      ]
     },
     "execution_count": 36,
     "metadata": {},
     "output_type": "execute_result"
    }
   ],
   "source": [
    "pca_95.components_.shape"
   ]
  },
  {
   "cell_type": "markdown",
   "metadata": {},
   "source": [
    "8 features have been dropped from the model"
   ]
  },
  {
   "cell_type": "markdown",
   "metadata": {},
   "source": [
    "## Now We Train on a Transformed and Scaled Data Set With PCA = 0.95"
   ]
  },
  {
   "cell_type": "code",
   "execution_count": 37,
   "metadata": {},
   "outputs": [
    {
     "name": "stdout",
     "output_type": "stream",
     "text": [
      "(260, 22)\n",
      "(1040, 22)\n"
     ]
    }
   ],
   "source": [
    "x_train_transformed = pca_95.fit(x_train_std).transform(x_train_std)\n",
    "x_test_transformed = pca_95.transform(x_test_std)\n",
    "\n",
    "print(x_test_transformed.shape)\n",
    "print(x_train_transformed.shape)"
   ]
  },
  {
   "cell_type": "code",
   "execution_count": 38,
   "metadata": {},
   "outputs": [],
   "source": [
    "clf_PCA = ExtraTreesClassifier(n_estimators=100, random_state=42)\n",
    "\n",
    "clf_PCA.fit(x_train_transformed, y_train)\n",
    "\n",
    "y_predictions = clf_PCA.predict(x_test_transformed)"
   ]
  },
  {
   "cell_type": "code",
   "execution_count": 39,
   "metadata": {},
   "outputs": [
    {
     "name": "stdout",
     "output_type": "stream",
     "text": [
      "0.6576923076923077\n"
     ]
    }
   ],
   "source": [
    "print(accuracy_score(y_test, y_predictions))"
   ]
  },
  {
   "cell_type": "code",
   "execution_count": 40,
   "metadata": {},
   "outputs": [
    {
     "name": "stdout",
     "output_type": "stream",
     "text": [
      "[0.61685824 0.65769231 0.69230769 0.69111969]\n"
     ]
    }
   ],
   "source": [
    "print (cross_val_score(clf_PCA, x_train_transformed, y_train, cv=4, scoring = 'accuracy'))"
   ]
  },
  {
   "cell_type": "markdown",
   "metadata": {},
   "source": [
    "Classifier performance degraded from the baseline with 30 features, but maybe tuning the hyperparameters will improve the performance"
   ]
  },
  {
   "cell_type": "markdown",
   "metadata": {},
   "source": [
    "## Find the best Hyperparameters (PCA = 0.95, Data Scaled)"
   ]
  },
  {
   "cell_type": "code",
   "execution_count": 41,
   "metadata": {},
   "outputs": [
    {
     "name": "stdout",
     "output_type": "stream",
     "text": [
      "{'n_estimators': [100, 200, 300, 400, 500, 600, 700, 800, 900, 1000, 1100, 1200, 1300, 1400, 1500, 1600, 1700, 1800, 1900, 2000], 'max_features': ['log2', 'sqrt', None], 'max_depth': [10, 20, 30, 40, 50, 60, 70, 80, 90, 100, 110, None], 'min_samples_split': [2, 5, 10], 'min_samples_leaf': [1, 2, 4], 'bootstrap': [True, False]}\n"
     ]
    }
   ],
   "source": [
    "#use RandomizedSearchCV\n",
    "\n",
    "n_estimators3 = [int(x) for x in np.linspace(start = 100, stop = 2000, num = 20)]\n",
    "\n",
    "max_features3 = ['log2', 'sqrt']\n",
    "max_features3.append(None)\n",
    "\n",
    "max_depth3 = [int(x) for x in np.linspace(10, 110, num = 11)]\n",
    "max_depth3.append(None)\n",
    "\n",
    "min_samples_split3 = [2, 5, 10]\n",
    "\n",
    "min_samples_leaf3 = [1, 2, 4]\n",
    "\n",
    "bootstrap3 = [True, False]\n",
    "\n",
    "param_grid_3 = {'n_estimators': n_estimators3,\n",
    "               'max_features': max_features3,\n",
    "               'max_depth': max_depth3,\n",
    "               'min_samples_split': min_samples_split3,\n",
    "               'min_samples_leaf': min_samples_leaf3,\n",
    "               'bootstrap': bootstrap3} \n",
    "print(param_grid_3)"
   ]
  },
  {
   "cell_type": "code",
   "execution_count": 42,
   "metadata": {},
   "outputs": [
    {
     "name": "stdout",
     "output_type": "stream",
     "text": [
      "Fitting 3 folds for each of 300 candidates, totalling 900 fits\n"
     ]
    },
    {
     "name": "stderr",
     "output_type": "stream",
     "text": [
      "[Parallel(n_jobs=-1)]: Using backend LokyBackend with 8 concurrent workers.\n",
      "[Parallel(n_jobs=-1)]: Done  25 tasks      | elapsed:    2.8s\n",
      "[Parallel(n_jobs=-1)]: Done 146 tasks      | elapsed:   19.5s\n",
      "[Parallel(n_jobs=-1)]: Done 349 tasks      | elapsed:   46.4s\n",
      "[Parallel(n_jobs=-1)]: Done 632 tasks      | elapsed:  1.4min\n",
      "[Parallel(n_jobs=-1)]: Done 900 out of 900 | elapsed:  2.0min finished\n"
     ]
    },
    {
     "data": {
      "text/plain": [
       "RandomizedSearchCV(cv=3, error_score='raise-deprecating',\n",
       "                   estimator=ExtraTreesClassifier(bootstrap=False,\n",
       "                                                  class_weight=None,\n",
       "                                                  criterion='gini',\n",
       "                                                  max_depth=None,\n",
       "                                                  max_features='auto',\n",
       "                                                  max_leaf_nodes=None,\n",
       "                                                  min_impurity_decrease=0.0,\n",
       "                                                  min_impurity_split=None,\n",
       "                                                  min_samples_leaf=1,\n",
       "                                                  min_samples_split=2,\n",
       "                                                  min_weight_fraction_leaf=0.0,\n",
       "                                                  n_estimators='warn',\n",
       "                                                  n_jobs=None, oob_sco...\n",
       "                                        'max_depth': [10, 20, 30, 40, 50, 60,\n",
       "                                                      70, 80, 90, 100, 110,\n",
       "                                                      None],\n",
       "                                        'max_features': ['log2', 'sqrt', None],\n",
       "                                        'min_samples_leaf': [1, 2, 4],\n",
       "                                        'min_samples_split': [2, 5, 10],\n",
       "                                        'n_estimators': [100, 200, 300, 400,\n",
       "                                                         500, 600, 700, 800,\n",
       "                                                         900, 1000, 1100, 1200,\n",
       "                                                         1300, 1400, 1500, 1600,\n",
       "                                                         1700, 1800, 1900,\n",
       "                                                         2000]},\n",
       "                   pre_dispatch='2*n_jobs', random_state=42, refit=True,\n",
       "                   return_train_score=False, scoring='accuracy', verbose=2)"
      ]
     },
     "execution_count": 42,
     "metadata": {},
     "output_type": "execute_result"
    }
   ],
   "source": [
    "clf_RCV_PCA = ExtraTreesClassifier(random_state = 42)\n",
    "clf_RCV_PCA = RandomizedSearchCV(estimator = clf_RCV_PCA, param_distributions = param_grid_3, cv = 3, verbose = 2, \n",
    "                                  random_state = 42 , n_iter = 300, n_jobs = -1, scoring = 'accuracy')\n",
    "clf_RCV_PCA.fit(x_train_transformed, y_train)"
   ]
  },
  {
   "cell_type": "code",
   "execution_count": 43,
   "metadata": {},
   "outputs": [
    {
     "data": {
      "text/plain": [
       "{'n_estimators': 1800,\n",
       " 'min_samples_split': 5,\n",
       " 'min_samples_leaf': 2,\n",
       " 'max_features': 'sqrt',\n",
       " 'max_depth': 100,\n",
       " 'bootstrap': False}"
      ]
     },
     "execution_count": 43,
     "metadata": {},
     "output_type": "execute_result"
    }
   ],
   "source": [
    "clf_RCV_PCA.best_params_"
   ]
  },
  {
   "cell_type": "code",
   "execution_count": 44,
   "metadata": {},
   "outputs": [
    {
     "data": {
      "text/plain": [
       "0.6576923076923077"
      ]
     },
     "execution_count": 44,
     "metadata": {},
     "output_type": "execute_result"
    }
   ],
   "source": [
    "accuracy_score(y_test,clf_RCV_PCA.predict(x_test_transformed))"
   ]
  },
  {
   "cell_type": "code",
   "execution_count": 45,
   "metadata": {},
   "outputs": [
    {
     "data": {
      "text/plain": [
       "array([0.68965517, 0.65769231, 0.70384615, 0.70656371])"
      ]
     },
     "execution_count": 45,
     "metadata": {},
     "output_type": "execute_result"
    }
   ],
   "source": [
    "cross_val_score(clf_RCV_PCA.best_estimator_, x_train_transformed, y_train, cv=4, scoring = 'accuracy')"
   ]
  },
  {
   "cell_type": "markdown",
   "metadata": {},
   "source": [
    "The CV score after a random search for the best hyperparameters yielded worse results than the basic model, therefore a gridsearch is not necessary (unlikely to improve over basic model).\n",
    "\n",
    "As we are going to see, if we do not scale the data before applying PCA, we will get a more accurate classifier with less components needed to explain 95% of the variance (14 instead of 22)"
   ]
  },
  {
   "cell_type": "markdown",
   "metadata": {},
   "source": [
    "# Train on Transformed Data without Scaling"
   ]
  },
  {
   "cell_type": "code",
   "execution_count": 46,
   "metadata": {},
   "outputs": [
    {
     "data": {
      "text/plain": [
       "PCA(copy=True, iterated_power='auto', n_components=0.95, random_state=None,\n",
       "    svd_solver='auto', tol=0.0, whiten=False)"
      ]
     },
     "execution_count": 46,
     "metadata": {},
     "output_type": "execute_result"
    }
   ],
   "source": [
    "pca_train = PCA(n_components = 0.95)\n",
    "\n",
    "pca_train.fit(train_set_features)"
   ]
  },
  {
   "cell_type": "code",
   "execution_count": 47,
   "metadata": {},
   "outputs": [
    {
     "data": {
      "text/plain": [
       "(1040, 14)"
      ]
     },
     "execution_count": 47,
     "metadata": {},
     "output_type": "execute_result"
    }
   ],
   "source": [
    "x_train_transformed2 =  pca_train.fit(train_set_features).transform(train_set_features)\n",
    "x_train_transformed2.shape"
   ]
  },
  {
   "cell_type": "code",
   "execution_count": 48,
   "metadata": {},
   "outputs": [
    {
     "data": {
      "text/plain": [
       "(260, 14)"
      ]
     },
     "execution_count": 48,
     "metadata": {},
     "output_type": "execute_result"
    }
   ],
   "source": [
    "x_test_transformed2 = pca_train.transform(test_set_features)\n",
    "x_test_transformed2.shape"
   ]
  },
  {
   "cell_type": "markdown",
   "metadata": {},
   "source": [
    "We only need 14 components to explain 95% of the variance in the data in this case\n",
    "\n",
    "Since Random Forest classifiers are somewhat invariant to feature scaling, it is not a problem if we do not scale the data"
   ]
  },
  {
   "cell_type": "markdown",
   "metadata": {},
   "source": [
    "To check that we only need 14 components on the original non scaled data, we redo the explained variance - component graph"
   ]
  },
  {
   "cell_type": "code",
   "execution_count": 49,
   "metadata": {},
   "outputs": [
    {
     "data": {
      "text/plain": [
       "PCA(copy=True, iterated_power='auto', n_components=30, random_state=None,\n",
       "    svd_solver='auto', tol=0.0, whiten=False)"
      ]
     },
     "execution_count": 49,
     "metadata": {},
     "output_type": "execute_result"
    }
   ],
   "source": [
    "pca_301 = PCA(n_components = 30)\n",
    "\n",
    "pca_301.fit(train_set_features)"
   ]
  },
  {
   "cell_type": "code",
   "execution_count": 50,
   "metadata": {},
   "outputs": [
    {
     "data": {
      "image/png": "[encoded data removed]",
      "text/plain": [
       "<Figure size 432x288 with 1 Axes>"
      ]
     },
     "metadata": {},
     "output_type": "display_data"
    }
   ],
   "source": [
    "plt.style.use('fivethirtyeight')\n",
    "plt.plot(range(0, len(pca_301.explained_variance_)), pca_301.explained_variance_)\n",
    "plt.xlabel(\"Component\")\n",
    "plt.ylabel(\"Explained Variance\")\n",
    "plt.show()"
   ]
  },
  {
   "cell_type": "markdown",
   "metadata": {},
   "source": [
    "As we can see, we can reduce the number of components to 14, instead of 22, without losing too much information"
   ]
  },
  {
   "cell_type": "markdown",
   "metadata": {},
   "source": [
    "Now we fit a new classfier on the unscaled transformed data and test it"
   ]
  },
  {
   "cell_type": "code",
   "execution_count": 51,
   "metadata": {},
   "outputs": [],
   "source": [
    "clf_PCA2 = ExtraTreesClassifier(n_estimators=100, random_state=42)\n",
    "\n",
    "clf_PCA2.fit(x_train_transformed2, train_set_labels)\n",
    "\n",
    "y_predictions2 = clf_PCA2.predict(x_test_transformed2)"
   ]
  },
  {
   "cell_type": "code",
   "execution_count": 52,
   "metadata": {},
   "outputs": [
    {
     "name": "stdout",
     "output_type": "stream",
     "text": [
      "0.8076923076923077\n"
     ]
    }
   ],
   "source": [
    "print(accuracy_score(test_set_labels, y_predictions2))"
   ]
  },
  {
   "cell_type": "code",
   "execution_count": 53,
   "metadata": {},
   "outputs": [
    {
     "name": "stdout",
     "output_type": "stream",
     "text": [
      "[0.81339713 0.77990431 0.83653846 0.83091787 0.79710145]\n"
     ]
    }
   ],
   "source": [
    "print (cross_val_score(clf_PCA2, x_train_transformed2, train_set_labels, cv=5, scoring = 'accuracy'))"
   ]
  },
  {
   "cell_type": "markdown",
   "metadata": {},
   "source": [
    "Performance has dramatically improved on unscaled data when reducing it, Now we tune the hyperparameters again using random and grid search"
   ]
  },
  {
   "cell_type": "markdown",
   "metadata": {},
   "source": [
    "## Tuning the reduced model"
   ]
  },
  {
   "cell_type": "code",
   "execution_count": 54,
   "metadata": {},
   "outputs": [
    {
     "name": "stdout",
     "output_type": "stream",
     "text": [
      "{'n_estimators': [100, 200, 300, 400, 500, 600, 700, 800, 900, 1000, 1100, 1200, 1300, 1400, 1500, 1600, 1700, 1800, 1900, 2000], 'max_features': ['log2', 'sqrt', None], 'max_depth': [10, 20, 30, 40, 50, 60, 70, 80, 90, 100, 110, None], 'min_samples_split': [2, 5, 10], 'min_samples_leaf': [1, 2, 4], 'bootstrap': [True, False]}\n"
     ]
    }
   ],
   "source": [
    "n_estimators4 = [int(x) for x in np.linspace(start = 100, stop = 2000, num = 20)]\n",
    "\n",
    "max_features4 = ['log2', 'sqrt']\n",
    "max_features4.append(None)\n",
    "\n",
    "max_depth4 = [int(x) for x in np.linspace(10, 110, num = 11)]\n",
    "max_depth4.append(None)\n",
    "\n",
    "min_samples_split4 = [2, 5, 10]\n",
    "\n",
    "min_samples_leaf4 = [1, 2, 4]\n",
    "\n",
    "bootstrap4 = [True, False]\n",
    "\n",
    "\n",
    "\n",
    "param_grid_4 = {'n_estimators': n_estimators4,\n",
    "               'max_features': max_features4,\n",
    "               'max_depth': max_depth4,\n",
    "               'min_samples_split': min_samples_split4,\n",
    "               'min_samples_leaf': min_samples_leaf4,\n",
    "               'bootstrap': bootstrap4} \n",
    "print(param_grid_4)"
   ]
  },
  {
   "cell_type": "code",
   "execution_count": 55,
   "metadata": {},
   "outputs": [
    {
     "name": "stdout",
     "output_type": "stream",
     "text": [
      "Fitting 3 folds for each of 300 candidates, totalling 900 fits\n"
     ]
    },
    {
     "name": "stderr",
     "output_type": "stream",
     "text": [
      "[Parallel(n_jobs=-1)]: Using backend LokyBackend with 8 concurrent workers.\n",
      "[Parallel(n_jobs=-1)]: Done  25 tasks      | elapsed:    2.5s\n",
      "[Parallel(n_jobs=-1)]: Done 146 tasks      | elapsed:   16.9s\n",
      "[Parallel(n_jobs=-1)]: Done 349 tasks      | elapsed:   39.8s\n",
      "[Parallel(n_jobs=-1)]: Done 632 tasks      | elapsed:  1.2min\n",
      "[Parallel(n_jobs=-1)]: Done 900 out of 900 | elapsed:  1.7min finished\n"
     ]
    },
    {
     "data": {
      "text/plain": [
       "RandomizedSearchCV(cv=3, error_score='raise-deprecating',\n",
       "                   estimator=ExtraTreesClassifier(bootstrap=False,\n",
       "                                                  class_weight=None,\n",
       "                                                  criterion='gini',\n",
       "                                                  max_depth=None,\n",
       "                                                  max_features='auto',\n",
       "                                                  max_leaf_nodes=None,\n",
       "                                                  min_impurity_decrease=0.0,\n",
       "                                                  min_impurity_split=None,\n",
       "                                                  min_samples_leaf=1,\n",
       "                                                  min_samples_split=2,\n",
       "                                                  min_weight_fraction_leaf=0.0,\n",
       "                                                  n_estimators='warn',\n",
       "                                                  n_jobs=None, oob_sco...\n",
       "                                        'max_depth': [10, 20, 30, 40, 50, 60,\n",
       "                                                      70, 80, 90, 100, 110,\n",
       "                                                      None],\n",
       "                                        'max_features': ['log2', 'sqrt', None],\n",
       "                                        'min_samples_leaf': [1, 2, 4],\n",
       "                                        'min_samples_split': [2, 5, 10],\n",
       "                                        'n_estimators': [100, 200, 300, 400,\n",
       "                                                         500, 600, 700, 800,\n",
       "                                                         900, 1000, 1100, 1200,\n",
       "                                                         1300, 1400, 1500, 1600,\n",
       "                                                         1700, 1800, 1900,\n",
       "                                                         2000]},\n",
       "                   pre_dispatch='2*n_jobs', random_state=42, refit=True,\n",
       "                   return_train_score=False, scoring='accuracy', verbose=2)"
      ]
     },
     "execution_count": 55,
     "metadata": {},
     "output_type": "execute_result"
    }
   ],
   "source": [
    "clf_RCV_14 = ExtraTreesClassifier(random_state = 42)\n",
    "clf_RCV_14 = RandomizedSearchCV(estimator = clf_RCV_14, param_distributions = param_grid_4, cv = 3, verbose = 2, \n",
    "                                  random_state = 42 , n_iter = 300, n_jobs = -1, scoring = 'accuracy')\n",
    "clf_RCV_14.fit(x_train_transformed2, train_set_labels)"
   ]
  },
  {
   "cell_type": "code",
   "execution_count": 56,
   "metadata": {},
   "outputs": [
    {
     "data": {
      "text/plain": [
       "{'n_estimators': 800,\n",
       " 'min_samples_split': 2,\n",
       " 'min_samples_leaf': 1,\n",
       " 'max_features': 'sqrt',\n",
       " 'max_depth': 20,\n",
       " 'bootstrap': False}"
      ]
     },
     "execution_count": 56,
     "metadata": {},
     "output_type": "execute_result"
    }
   ],
   "source": [
    "clf_RCV_14.best_params_"
   ]
  },
  {
   "cell_type": "code",
   "execution_count": 57,
   "metadata": {},
   "outputs": [
    {
     "name": "stdout",
     "output_type": "stream",
     "text": [
      "0.8153846153846154\n"
     ]
    }
   ],
   "source": [
    "test_set_predictions_RCV_14 = clf_RCV_14.best_estimator_.predict(x_test_transformed2)\n",
    "print(accuracy_score(test_set_labels, test_set_predictions_RCV_14))"
   ]
  },
  {
   "cell_type": "code",
   "execution_count": 58,
   "metadata": {},
   "outputs": [
    {
     "data": {
      "text/plain": [
       "array([0.81818182, 0.81818182, 0.79326923, 0.82125604, 0.80676329])"
      ]
     },
     "execution_count": 58,
     "metadata": {},
     "output_type": "execute_result"
    }
   ],
   "source": [
    "cross_val_score(clf_RCV_14.best_estimator_, x_train_transformed2, y_train, cv=5, scoring = 'accuracy')"
   ]
  },
  {
   "cell_type": "markdown",
   "metadata": {},
   "source": [
    "The cv score and classifier accuracy are the best yet, now we search in a more specific grid based on the random results given"
   ]
  },
  {
   "cell_type": "code",
   "execution_count": 59,
   "metadata": {},
   "outputs": [],
   "source": [
    "# Create the parameter grid based on the results of random search \n",
    "param_grid_5 = {\n",
    "    'bootstrap': [False],\n",
    "    'max_depth': [ 20, 30, 40, 60, 80, None],\n",
    "    'max_features': ['sqrt'],\n",
    "    'min_samples_leaf': [1,2,3,4],\n",
    "    'min_samples_split': [2,3,4,5],\n",
    "    'n_estimators': [ 600, 700, 800, 900, 1000],\n",
    "    'criterion':['gini']\n",
    "}"
   ]
  },
  {
   "cell_type": "code",
   "execution_count": 60,
   "metadata": {},
   "outputs": [
    {
     "name": "stdout",
     "output_type": "stream",
     "text": [
      "Fitting 4 folds for each of 480 candidates, totalling 1920 fits\n"
     ]
    },
    {
     "name": "stderr",
     "output_type": "stream",
     "text": [
      "[Parallel(n_jobs=-1)]: Using backend LokyBackend with 8 concurrent workers.\n",
      "[Parallel(n_jobs=-1)]: Done  25 tasks      | elapsed:    2.7s\n",
      "[Parallel(n_jobs=-1)]: Done 146 tasks      | elapsed:   13.3s\n",
      "[Parallel(n_jobs=-1)]: Done 349 tasks      | elapsed:   29.6s\n",
      "[Parallel(n_jobs=-1)]: Done 632 tasks      | elapsed:   52.7s\n",
      "[Parallel(n_jobs=-1)]: Done 997 tasks      | elapsed:  1.4min\n",
      "[Parallel(n_jobs=-1)]: Done 1442 tasks      | elapsed:  2.0min\n",
      "[Parallel(n_jobs=-1)]: Done 1920 out of 1920 | elapsed:  2.7min finished\n"
     ]
    },
    {
     "data": {
      "text/plain": [
       "GridSearchCV(cv=4, error_score='raise-deprecating',\n",
       "             estimator=ExtraTreesClassifier(bootstrap=False, class_weight=None,\n",
       "                                            criterion='gini', max_depth=None,\n",
       "                                            max_features='auto',\n",
       "                                            max_leaf_nodes=None,\n",
       "                                            min_impurity_decrease=0.0,\n",
       "                                            min_impurity_split=None,\n",
       "                                            min_samples_leaf=1,\n",
       "                                            min_samples_split=2,\n",
       "                                            min_weight_fraction_leaf=0.0,\n",
       "                                            n_estimators='warn', n_jobs=None,\n",
       "                                            oob_score=Fal...42,\n",
       "                                            verbose=0, warm_start=False),\n",
       "             iid='warn', n_jobs=-1,\n",
       "             param_grid={'bootstrap': [False], 'criterion': ['gini'],\n",
       "                         'max_depth': [20, 30, 40, 60, 80, None],\n",
       "                         'max_features': ['sqrt'],\n",
       "                         'min_samples_leaf': [1, 2, 3, 4],\n",
       "                         'min_samples_split': [2, 3, 4, 5],\n",
       "                         'n_estimators': [600, 700, 800, 900, 1000]},\n",
       "             pre_dispatch='2*n_jobs', refit=True, return_train_score=False,\n",
       "             scoring='accuracy', verbose=2)"
      ]
     },
     "execution_count": 60,
     "metadata": {},
     "output_type": "execute_result"
    }
   ],
   "source": [
    "clf_GCV_14 = ExtraTreesClassifier(random_state = 42)\n",
    "clf_GCV_14 = GridSearchCV(estimator = clf_GCV_14, param_grid = param_grid_5, cv = 4, verbose = 2, \n",
    "                                    n_jobs = -1, scoring = 'accuracy')\n",
    "clf_GCV_14.fit(x_train_transformed2, train_set_labels)"
   ]
  },
  {
   "cell_type": "code",
   "execution_count": 61,
   "metadata": {},
   "outputs": [
    {
     "data": {
      "text/plain": [
       "{'bootstrap': False,\n",
       " 'criterion': 'gini',\n",
       " 'max_depth': 20,\n",
       " 'max_features': 'sqrt',\n",
       " 'min_samples_leaf': 1,\n",
       " 'min_samples_split': 3,\n",
       " 'n_estimators': 1000}"
      ]
     },
     "execution_count": 61,
     "metadata": {},
     "output_type": "execute_result"
    }
   ],
   "source": [
    "clf_GCV_14.best_params_"
   ]
  },
  {
   "cell_type": "markdown",
   "metadata": {},
   "source": [
    "# Accuracy Measures of Tuned Classifier with PCA = 0.95, Data Unscaled"
   ]
  },
  {
   "cell_type": "code",
   "execution_count": 62,
   "metadata": {},
   "outputs": [
    {
     "name": "stdout",
     "output_type": "stream",
     "text": [
      "0.8153846153846154\n"
     ]
    }
   ],
   "source": [
    "test_set_predictions_GCV_14 = clf_GCV_14.best_estimator_.predict(x_test_transformed2)\n",
    "print(accuracy_score(test_set_labels, test_set_predictions_GCV_14))"
   ]
  },
  {
   "cell_type": "code",
   "execution_count": 63,
   "metadata": {},
   "outputs": [
    {
     "name": "stdout",
     "output_type": "stream",
     "text": [
      "[0.84688995 0.80382775 0.8125     0.79710145 0.80193237]\n"
     ]
    }
   ],
   "source": [
    "print(cross_val_score(clf_GCV_14.best_estimator_, x_train_transformed2, y_train, cv=5, scoring = 'accuracy'))"
   ]
  },
  {
   "cell_type": "code",
   "execution_count": 64,
   "metadata": {},
   "outputs": [
    {
     "data": {
      "text/plain": [
       "0.8182960975989164"
      ]
     },
     "execution_count": 64,
     "metadata": {},
     "output_type": "execute_result"
    }
   ],
   "source": [
    "precision_score(y_test, test_set_predictions_GCV_14, average = 'weighted')"
   ]
  },
  {
   "cell_type": "code",
   "execution_count": 65,
   "metadata": {},
   "outputs": [
    {
     "data": {
      "text/plain": [
       "0.8153846153846154"
      ]
     },
     "execution_count": 65,
     "metadata": {},
     "output_type": "execute_result"
    }
   ],
   "source": [
    "recall_score(y_test, test_set_predictions_GCV_14, average = 'weighted')"
   ]
  },
  {
   "cell_type": "code",
   "execution_count": 66,
   "metadata": {},
   "outputs": [
    {
     "data": {
      "text/plain": [
       "0.816036634368982"
      ]
     },
     "execution_count": 66,
     "metadata": {},
     "output_type": "execute_result"
    }
   ],
   "source": [
    "f1_score(y_test, test_set_predictions_GCV_14, average = 'weighted')"
   ]
  },
  {
   "cell_type": "markdown",
   "metadata": {},
   "source": [
    "This is the most accurate classifier we found so far, lastly we will try to use different number of principal components to understand wether it increases the classifier accuracy or not (All on unscaled data)"
   ]
  },
  {
   "cell_type": "markdown",
   "metadata": {},
   "source": [
    "# Trying Different Number of Components"
   ]
  },
  {
   "cell_type": "code",
   "execution_count": 67,
   "metadata": {},
   "outputs": [
    {
     "data": {
      "text/plain": [
       "PCA(copy=True, iterated_power='auto', n_components=13, random_state=42,\n",
       "    svd_solver='auto', tol=0.0, whiten=False)"
      ]
     },
     "execution_count": 67,
     "metadata": {},
     "output_type": "execute_result"
    }
   ],
   "source": [
    "# try on 13 components\n",
    "\n",
    "pca_13 = PCA(n_components=13, random_state=42)\n",
    "\n",
    "pca_13.fit(train_set_features)"
   ]
  },
  {
   "cell_type": "code",
   "execution_count": 68,
   "metadata": {},
   "outputs": [
    {
     "data": {
      "text/plain": [
       "(1040, 13)"
      ]
     },
     "execution_count": 68,
     "metadata": {},
     "output_type": "execute_result"
    }
   ],
   "source": [
    "x_train_13 =  pca_13.fit(train_set_features).transform(train_set_features)\n",
    "x_train_13.shape"
   ]
  },
  {
   "cell_type": "code",
   "execution_count": 69,
   "metadata": {},
   "outputs": [
    {
     "data": {
      "text/plain": [
       "(260, 13)"
      ]
     },
     "execution_count": 69,
     "metadata": {},
     "output_type": "execute_result"
    }
   ],
   "source": [
    "x_test_13 = pca_13.transform(test_set_features)\n",
    "x_test_13.shape"
   ]
  },
  {
   "cell_type": "code",
   "execution_count": 70,
   "metadata": {},
   "outputs": [
    {
     "data": {
      "text/plain": [
       "ExtraTreesClassifier(bootstrap=False, class_weight=None, criterion='gini',\n",
       "                     max_depth=None, max_features='auto', max_leaf_nodes=None,\n",
       "                     min_impurity_decrease=0.0, min_impurity_split=None,\n",
       "                     min_samples_leaf=1, min_samples_split=2,\n",
       "                     min_weight_fraction_leaf=0.0, n_estimators=100,\n",
       "                     n_jobs=None, oob_score=False, random_state=42, verbose=0,\n",
       "                     warm_start=False)"
      ]
     },
     "execution_count": 70,
     "metadata": {},
     "output_type": "execute_result"
    }
   ],
   "source": [
    "#fit a model train, and compare with PCA = 14\n",
    "\n",
    "clf_13 = ExtraTreesClassifier(random_state=42, n_estimators=100)\n",
    "\n",
    "clf_13.fit(x_train_13, y_train)"
   ]
  },
  {
   "cell_type": "code",
   "execution_count": 71,
   "metadata": {},
   "outputs": [
    {
     "name": "stdout",
     "output_type": "stream",
     "text": [
      "0.7961538461538461\n"
     ]
    }
   ],
   "source": [
    "y_pred_13 = clf_13.predict(x_test_13)\n",
    "print(accuracy_score(y_test, y_pred_13))"
   ]
  },
  {
   "cell_type": "code",
   "execution_count": 72,
   "metadata": {},
   "outputs": [
    {
     "name": "stdout",
     "output_type": "stream",
     "text": [
      "[0.79425837 0.77990431 0.81730769 0.75362319 0.7826087 ]\n"
     ]
    }
   ],
   "source": [
    "print(cross_val_score(clf_13, x_train_13, y_train, cv=5, scoring = 'accuracy'))"
   ]
  },
  {
   "cell_type": "markdown",
   "metadata": {},
   "source": [
    "Accuracy and CV score decreased relative to untuned classifier with 14 components, now we will try and increase number of components"
   ]
  },
  {
   "cell_type": "code",
   "execution_count": 73,
   "metadata": {},
   "outputs": [
    {
     "data": {
      "text/plain": [
       "PCA(copy=True, iterated_power='auto', n_components=15, random_state=42,\n",
       "    svd_solver='auto', tol=0.0, whiten=False)"
      ]
     },
     "execution_count": 73,
     "metadata": {},
     "output_type": "execute_result"
    }
   ],
   "source": [
    "# try on 15 components\n",
    "\n",
    "pca_15 = PCA(n_components=15, random_state=42)\n",
    "\n",
    "pca_15.fit(train_set_features)"
   ]
  },
  {
   "cell_type": "code",
   "execution_count": 74,
   "metadata": {},
   "outputs": [
    {
     "data": {
      "text/plain": [
       "(1040, 15)"
      ]
     },
     "execution_count": 74,
     "metadata": {},
     "output_type": "execute_result"
    }
   ],
   "source": [
    "x_train_15 =  pca_15.fit(train_set_features).transform(train_set_features)\n",
    "x_train_15.shape"
   ]
  },
  {
   "cell_type": "code",
   "execution_count": 75,
   "metadata": {},
   "outputs": [
    {
     "data": {
      "text/plain": [
       "(260, 15)"
      ]
     },
     "execution_count": 75,
     "metadata": {},
     "output_type": "execute_result"
    }
   ],
   "source": [
    "x_test_15 = pca_15.transform(test_set_features)\n",
    "x_test_15.shape"
   ]
  },
  {
   "cell_type": "code",
   "execution_count": 76,
   "metadata": {},
   "outputs": [
    {
     "data": {
      "text/plain": [
       "ExtraTreesClassifier(bootstrap=False, class_weight=None, criterion='gini',\n",
       "                     max_depth=None, max_features='auto', max_leaf_nodes=None,\n",
       "                     min_impurity_decrease=0.0, min_impurity_split=None,\n",
       "                     min_samples_leaf=1, min_samples_split=2,\n",
       "                     min_weight_fraction_leaf=0.0, n_estimators=100,\n",
       "                     n_jobs=None, oob_score=False, random_state=42, verbose=0,\n",
       "                     warm_start=False)"
      ]
     },
     "execution_count": 76,
     "metadata": {},
     "output_type": "execute_result"
    }
   ],
   "source": [
    "#fit a model train, and compare with PCA = 14\n",
    "\n",
    "clf_15 = ExtraTreesClassifier( n_estimators=100, random_state=42)\n",
    "\n",
    "clf_15.fit(x_train_15, y_train)"
   ]
  },
  {
   "cell_type": "code",
   "execution_count": 77,
   "metadata": {},
   "outputs": [
    {
     "name": "stdout",
     "output_type": "stream",
     "text": [
      "0.8115384615384615\n"
     ]
    }
   ],
   "source": [
    "y_pred_15 = clf_15.predict(x_test_15)\n",
    "print(accuracy_score(y_test, y_pred_15))"
   ]
  },
  {
   "cell_type": "code",
   "execution_count": 78,
   "metadata": {},
   "outputs": [
    {
     "name": "stdout",
     "output_type": "stream",
     "text": [
      "[0.79425837 0.74641148 0.79326923 0.75362319 0.79710145]\n"
     ]
    }
   ],
   "source": [
    "print(cross_val_score(clf_15, x_train_15, y_train, cv=5, scoring = 'accuracy'))"
   ]
  },
  {
   "cell_type": "markdown",
   "metadata": {},
   "source": [
    "Accuracy and CV score are comparable/better than the untuned classifier with pca=14, lets check pca=16"
   ]
  },
  {
   "cell_type": "code",
   "execution_count": 79,
   "metadata": {},
   "outputs": [
    {
     "data": {
      "text/plain": [
       "PCA(copy=True, iterated_power='auto', n_components=16, random_state=42,\n",
       "    svd_solver='auto', tol=0.0, whiten=False)"
      ]
     },
     "execution_count": 79,
     "metadata": {},
     "output_type": "execute_result"
    }
   ],
   "source": [
    "pca_16 = PCA(n_components=16, random_state=42)\n",
    "\n",
    "pca_16.fit(train_set_features)"
   ]
  },
  {
   "cell_type": "code",
   "execution_count": 80,
   "metadata": {},
   "outputs": [
    {
     "data": {
      "text/plain": [
       "(1040, 16)"
      ]
     },
     "execution_count": 80,
     "metadata": {},
     "output_type": "execute_result"
    }
   ],
   "source": [
    "x_train_16 =  pca_16.fit(train_set_features).transform(train_set_features)\n",
    "x_train_16.shape"
   ]
  },
  {
   "cell_type": "code",
   "execution_count": 81,
   "metadata": {},
   "outputs": [
    {
     "data": {
      "text/plain": [
       "(260, 16)"
      ]
     },
     "execution_count": 81,
     "metadata": {},
     "output_type": "execute_result"
    }
   ],
   "source": [
    "x_test_16 = pca_16.transform(test_set_features)\n",
    "x_test_16.shape"
   ]
  },
  {
   "cell_type": "code",
   "execution_count": 82,
   "metadata": {},
   "outputs": [
    {
     "data": {
      "text/plain": [
       "ExtraTreesClassifier(bootstrap=False, class_weight=None, criterion='gini',\n",
       "                     max_depth=None, max_features='auto', max_leaf_nodes=None,\n",
       "                     min_impurity_decrease=0.0, min_impurity_split=None,\n",
       "                     min_samples_leaf=1, min_samples_split=2,\n",
       "                     min_weight_fraction_leaf=0.0, n_estimators=100,\n",
       "                     n_jobs=None, oob_score=False, random_state=42, verbose=0,\n",
       "                     warm_start=False)"
      ]
     },
     "execution_count": 82,
     "metadata": {},
     "output_type": "execute_result"
    }
   ],
   "source": [
    "#fit a model train, and compare with PCA = 14 & 15\n",
    "\n",
    "clf_16 = ExtraTreesClassifier( n_estimators=100, random_state=42)\n",
    "\n",
    "clf_16.fit(x_train_16, y_train)"
   ]
  },
  {
   "cell_type": "code",
   "execution_count": 83,
   "metadata": {},
   "outputs": [
    {
     "name": "stdout",
     "output_type": "stream",
     "text": [
      "0.7961538461538461\n"
     ]
    }
   ],
   "source": [
    "y_pred_16 = clf_16.predict(x_test_16)\n",
    "print(accuracy_score(y_test, y_pred_16))"
   ]
  },
  {
   "cell_type": "code",
   "execution_count": 84,
   "metadata": {},
   "outputs": [
    {
     "name": "stdout",
     "output_type": "stream",
     "text": [
      "[0.79425837 0.80382775 0.77403846 0.76811594 0.77777778]\n"
     ]
    }
   ],
   "source": [
    "print(cross_val_score(clf_16, x_train_16, y_train, cv=5, scoring = 'accuracy'))"
   ]
  },
  {
   "cell_type": "markdown",
   "metadata": {},
   "source": [
    "Accuracy and CV scores degraded again, so we will lastly tune the classifier with pca=15 and compare that with the best one we have found thus far (pca=14, tuned)"
   ]
  },
  {
   "cell_type": "markdown",
   "metadata": {},
   "source": [
    "## Tune Hyperparameters of Classifier with PCA = 15, unscaled data"
   ]
  },
  {
   "cell_type": "markdown",
   "metadata": {},
   "source": [
    "Again, start with a randomized search then focus on a grid search"
   ]
  },
  {
   "cell_type": "code",
   "execution_count": 85,
   "metadata": {},
   "outputs": [
    {
     "name": "stdout",
     "output_type": "stream",
     "text": [
      "{'n_estimators': [100, 200, 300, 400, 500, 600, 700, 800, 900, 1000, 1100, 1200, 1300, 1400, 1500, 1600, 1700, 1800, 1900, 2000], 'max_features': ['sqrt', None], 'max_depth': [10, 20, 30, 40, 50, 60, 70, 80, 90, 100, 110, None], 'min_samples_split': [2, 5, 10], 'min_samples_leaf': [1, 2, 4], 'bootstrap': [True, False]}\n"
     ]
    }
   ],
   "source": [
    "n_estimators6 = [int(x) for x in np.linspace(start = 100, stop = 2000, num = 20)]\n",
    "\n",
    "max_features6 = [ 'sqrt']\n",
    "max_features6.append(None)\n",
    "\n",
    "max_depth6 = [int(x) for x in np.linspace(10, 110, num = 11)]\n",
    "max_depth6.append(None)\n",
    "\n",
    "min_samples_split6 = [2, 5, 10]\n",
    "\n",
    "min_samples_leaf6 = [1, 2, 4]\n",
    "\n",
    "bootstrap6 = [True, False]\n",
    "\n",
    "param_grid_6 = {'n_estimators': n_estimators6,\n",
    "               'max_features': max_features6,\n",
    "               'max_depth': max_depth6,\n",
    "               'min_samples_split': min_samples_split6,\n",
    "               'min_samples_leaf': min_samples_leaf6,\n",
    "               'bootstrap': bootstrap6} \n",
    "print(param_grid_6)"
   ]
  },
  {
   "cell_type": "code",
   "execution_count": 86,
   "metadata": {},
   "outputs": [
    {
     "name": "stdout",
     "output_type": "stream",
     "text": [
      "Fitting 3 folds for each of 300 candidates, totalling 900 fits\n"
     ]
    },
    {
     "name": "stderr",
     "output_type": "stream",
     "text": [
      "[Parallel(n_jobs=-1)]: Using backend LokyBackend with 8 concurrent workers.\n",
      "[Parallel(n_jobs=-1)]: Done  25 tasks      | elapsed:    3.9s\n",
      "[Parallel(n_jobs=-1)]: Done 146 tasks      | elapsed:   18.3s\n",
      "[Parallel(n_jobs=-1)]: Done 349 tasks      | elapsed:   42.4s\n",
      "[Parallel(n_jobs=-1)]: Done 632 tasks      | elapsed:  1.3min\n",
      "[Parallel(n_jobs=-1)]: Done 900 out of 900 | elapsed:  1.8min finished\n"
     ]
    },
    {
     "data": {
      "text/plain": [
       "RandomizedSearchCV(cv=3, error_score='raise-deprecating',\n",
       "                   estimator=ExtraTreesClassifier(bootstrap=False,\n",
       "                                                  class_weight=None,\n",
       "                                                  criterion='gini',\n",
       "                                                  max_depth=None,\n",
       "                                                  max_features='auto',\n",
       "                                                  max_leaf_nodes=None,\n",
       "                                                  min_impurity_decrease=0.0,\n",
       "                                                  min_impurity_split=None,\n",
       "                                                  min_samples_leaf=1,\n",
       "                                                  min_samples_split=2,\n",
       "                                                  min_weight_fraction_leaf=0.0,\n",
       "                                                  n_estimators='warn',\n",
       "                                                  n_jobs=None, oob_sco...\n",
       "                                        'max_depth': [10, 20, 30, 40, 50, 60,\n",
       "                                                      70, 80, 90, 100, 110,\n",
       "                                                      None],\n",
       "                                        'max_features': ['sqrt', None],\n",
       "                                        'min_samples_leaf': [1, 2, 4],\n",
       "                                        'min_samples_split': [2, 5, 10],\n",
       "                                        'n_estimators': [100, 200, 300, 400,\n",
       "                                                         500, 600, 700, 800,\n",
       "                                                         900, 1000, 1100, 1200,\n",
       "                                                         1300, 1400, 1500, 1600,\n",
       "                                                         1700, 1800, 1900,\n",
       "                                                         2000]},\n",
       "                   pre_dispatch='2*n_jobs', random_state=42, refit=True,\n",
       "                   return_train_score=False, scoring='accuracy', verbose=2)"
      ]
     },
     "execution_count": 86,
     "metadata": {},
     "output_type": "execute_result"
    }
   ],
   "source": [
    "clf_RCV_15 = ExtraTreesClassifier(random_state = 42)\n",
    "clf_RCV_15 = RandomizedSearchCV(estimator = clf_RCV_15, param_distributions = param_grid_6, cv = 3, verbose = 2, \n",
    "                                  random_state = 42 , n_iter = 300, n_jobs = -1, scoring = 'accuracy')\n",
    "clf_RCV_15.fit(x_train_15, y_train)"
   ]
  },
  {
   "cell_type": "code",
   "execution_count": 87,
   "metadata": {},
   "outputs": [
    {
     "data": {
      "text/plain": [
       "{'n_estimators': 1800,\n",
       " 'min_samples_split': 2,\n",
       " 'min_samples_leaf': 1,\n",
       " 'max_features': 'sqrt',\n",
       " 'max_depth': 80,\n",
       " 'bootstrap': False}"
      ]
     },
     "execution_count": 87,
     "metadata": {},
     "output_type": "execute_result"
    }
   ],
   "source": [
    "clf_RCV_15.best_params_"
   ]
  },
  {
   "cell_type": "code",
   "execution_count": 88,
   "metadata": {},
   "outputs": [
    {
     "name": "stdout",
     "output_type": "stream",
     "text": [
      "0.8192307692307692\n"
     ]
    }
   ],
   "source": [
    "print(accuracy_score(y_test, clf_RCV_15.best_estimator_.predict(x_test_15)))"
   ]
  },
  {
   "cell_type": "code",
   "execution_count": 89,
   "metadata": {},
   "outputs": [
    {
     "data": {
      "text/plain": [
       "array([0.82296651, 0.80861244, 0.79807692, 0.80193237, 0.8115942 ])"
      ]
     },
     "execution_count": 89,
     "metadata": {},
     "output_type": "execute_result"
    }
   ],
   "source": [
    "cross_val_score(clf_RCV_15.best_estimator_, x_train_15, y_train, cv=5, scoring = 'accuracy')"
   ]
  },
  {
   "cell_type": "markdown",
   "metadata": {},
   "source": [
    "We have the best Accuracy and Scores thus far, next we do a grid search"
   ]
  },
  {
   "cell_type": "code",
   "execution_count": 90,
   "metadata": {},
   "outputs": [],
   "source": [
    "# Create the parameter grid based on the results of random search \n",
    "param_grid_7 = {\n",
    "    'bootstrap': [False],\n",
    "    'max_depth': [ 30, 40, 50, 60, 70, 80, None],\n",
    "    'max_features': ['sqrt'],\n",
    "    'min_samples_leaf': [1,2,3,4],\n",
    "    'min_samples_split': [2,3,4,5],\n",
    "    'n_estimators': [1000, 1300, 1500, 1800],\n",
    "    'criterion':['gini']\n",
    "}"
   ]
  },
  {
   "cell_type": "code",
   "execution_count": 91,
   "metadata": {},
   "outputs": [
    {
     "name": "stdout",
     "output_type": "stream",
     "text": [
      "Fitting 4 folds for each of 448 candidates, totalling 1792 fits\n"
     ]
    },
    {
     "name": "stderr",
     "output_type": "stream",
     "text": [
      "[Parallel(n_jobs=-1)]: Using backend LokyBackend with 8 concurrent workers.\n",
      "[Parallel(n_jobs=-1)]: Done  25 tasks      | elapsed:    4.9s\n",
      "[Parallel(n_jobs=-1)]: Done 146 tasks      | elapsed:   23.1s\n",
      "[Parallel(n_jobs=-1)]: Done 349 tasks      | elapsed:   53.3s\n",
      "[Parallel(n_jobs=-1)]: Done 632 tasks      | elapsed:  1.6min\n",
      "[Parallel(n_jobs=-1)]: Done 997 tasks      | elapsed:  2.4min\n",
      "[Parallel(n_jobs=-1)]: Done 1442 tasks      | elapsed:  3.5min\n",
      "[Parallel(n_jobs=-1)]: Done 1792 out of 1792 | elapsed:  4.4min finished\n"
     ]
    },
    {
     "data": {
      "text/plain": [
       "GridSearchCV(cv=4, error_score='raise-deprecating',\n",
       "             estimator=ExtraTreesClassifier(bootstrap=False, class_weight=None,\n",
       "                                            criterion='gini', max_depth=None,\n",
       "                                            max_features='auto',\n",
       "                                            max_leaf_nodes=None,\n",
       "                                            min_impurity_decrease=0.0,\n",
       "                                            min_impurity_split=None,\n",
       "                                            min_samples_leaf=1,\n",
       "                                            min_samples_split=2,\n",
       "                                            min_weight_fraction_leaf=0.0,\n",
       "                                            n_estimators='warn', n_jobs=None,\n",
       "                                            oob_score=Fal...,\n",
       "                                            verbose=0, warm_start=False),\n",
       "             iid='warn', n_jobs=-1,\n",
       "             param_grid={'bootstrap': [False], 'criterion': ['gini'],\n",
       "                         'max_depth': [30, 40, 50, 60, 70, 80, None],\n",
       "                         'max_features': ['sqrt'],\n",
       "                         'min_samples_leaf': [1, 2, 3, 4],\n",
       "                         'min_samples_split': [2, 3, 4, 5],\n",
       "                         'n_estimators': [1000, 1300, 1500, 1800]},\n",
       "             pre_dispatch='2*n_jobs', refit=True, return_train_score=False,\n",
       "             scoring='accuracy', verbose=2)"
      ]
     },
     "execution_count": 91,
     "metadata": {},
     "output_type": "execute_result"
    }
   ],
   "source": [
    "clf_GCV_15 = ExtraTreesClassifier(random_state = 42)\n",
    "clf_GCV_15 = GridSearchCV(estimator = clf_GCV_15, param_grid = param_grid_7, cv = 4, verbose = 2, \n",
    "                                    n_jobs = -1, scoring = 'accuracy')\n",
    "clf_GCV_15.fit(x_train_15, y_train)"
   ]
  },
  {
   "cell_type": "code",
   "execution_count": 92,
   "metadata": {},
   "outputs": [
    {
     "data": {
      "text/plain": [
       "{'bootstrap': False,\n",
       " 'criterion': 'gini',\n",
       " 'max_depth': 30,\n",
       " 'max_features': 'sqrt',\n",
       " 'min_samples_leaf': 1,\n",
       " 'min_samples_split': 2,\n",
       " 'n_estimators': 1000}"
      ]
     },
     "execution_count": 92,
     "metadata": {},
     "output_type": "execute_result"
    }
   ],
   "source": [
    "clf_GCV_15.best_params_"
   ]
  },
  {
   "cell_type": "markdown",
   "metadata": {},
   "source": [
    "## Accuracy Measures of Classifier with PCA = 15, Unscaled Data"
   ]
  },
  {
   "cell_type": "code",
   "execution_count": 93,
   "metadata": {},
   "outputs": [
    {
     "name": "stdout",
     "output_type": "stream",
     "text": [
      "0.8423076923076923\n"
     ]
    }
   ],
   "source": [
    "test_set_predictions_GCV_15 = clf_GCV_15.best_estimator_.predict(x_test_15)\n",
    "print(accuracy_score(y_test, test_set_predictions_GCV_15))"
   ]
  },
  {
   "cell_type": "code",
   "execution_count": 94,
   "metadata": {},
   "outputs": [
    {
     "name": "stdout",
     "output_type": "stream",
     "text": [
      "[0.8277512  0.80861244 0.80288462 0.79227053 0.82125604]\n"
     ]
    }
   ],
   "source": [
    "print(cross_val_score(clf_GCV_15.best_estimator_, x_train_15, y_train, cv=5, scoring = 'accuracy'))"
   ]
  },
  {
   "cell_type": "code",
   "execution_count": 95,
   "metadata": {},
   "outputs": [
    {
     "data": {
      "text/plain": [
       "0.8461739758467521"
      ]
     },
     "execution_count": 95,
     "metadata": {},
     "output_type": "execute_result"
    }
   ],
   "source": [
    "precision_score(y_test, test_set_predictions_GCV_15, average = 'weighted')"
   ]
  },
  {
   "cell_type": "code",
   "execution_count": 96,
   "metadata": {},
   "outputs": [
    {
     "data": {
      "text/plain": [
       "0.8423076923076923"
      ]
     },
     "execution_count": 96,
     "metadata": {},
     "output_type": "execute_result"
    }
   ],
   "source": [
    "recall_score(y_test, test_set_predictions_GCV_15, average = 'weighted')"
   ]
  },
  {
   "cell_type": "code",
   "execution_count": 97,
   "metadata": {},
   "outputs": [
    {
     "data": {
      "text/plain": [
       "0.842490877995385"
      ]
     },
     "execution_count": 97,
     "metadata": {},
     "output_type": "execute_result"
    }
   ],
   "source": [
    "f1_score(y_test, test_set_predictions_GCV_15, average = 'weighted')"
   ]
  },
  {
   "cell_type": "markdown",
   "metadata": {},
   "source": [
    "Therefore, the most accurate model found was when applying a PCA = 15 on the unscaled data set, resulting in an analysis of the 15 most important features and dropping 15 unecessary ones, which obtain higher scores than any other classifier tested in this notebook"
   ]
  },
  {
   "cell_type": "markdown",
   "metadata": {},
   "source": [
    "## Summary for Accuracy Differences Between Classifiers"
   ]
  },
  {
   "cell_type": "code",
   "execution_count": 98,
   "metadata": {},
   "outputs": [],
   "source": [
    "from sklearn.pipeline import Pipeline\n",
    "\n",
    "pipeline_baseline = Pipeline([('scalar1',StandardScaler()),\n",
    "                     ('clf',clf)])\n",
    "\n",
    "pipeline_baseline_tuned = Pipeline([('scalar2',StandardScaler()),\n",
    "                     ('clf_GCV',clf_GCV.best_estimator_)])\n",
    "\n",
    "\n",
    "pipeline_pca_scaled_tuned = Pipeline([('scalar3',StandardScaler()),\n",
    "                     ('pca_train',PCA(n_components=0.95)),\n",
    "                     ('clf_RCV_PCA',clf_RCV_PCA.best_estimator_)])\n",
    "\n",
    "\n",
    "pipeline_pca_no_scale_tuned = Pipeline([('pca_15',PCA(n_components=15)),\n",
    "                     ('clf_GCV_15',clf_GCV_15.best_estimator_)])\n",
    "\n",
    "\n",
    "#create extra pipeline for unscaled data with no PCA to check scaling does not degrade performance if PCA is not applied\n",
    "\n",
    "pipeline_no_scale = Pipeline([('clf_no_scale', ExtraTreesClassifier(random_state=42, n_estimators=100))])\n"
   ]
  },
  {
   "cell_type": "code",
   "execution_count": 99,
   "metadata": {},
   "outputs": [],
   "source": [
    "pipelines = [pipeline_no_scale, pipeline_baseline, pipeline_baseline_tuned, pipeline_pca_scaled_tuned, pipeline_pca_no_scale_tuned]\n",
    "\n",
    "best_accuracy=0.0\n",
    "best_classifier=0\n",
    "best_pipeline=\"\""
   ]
  },
  {
   "cell_type": "code",
   "execution_count": 100,
   "metadata": {},
   "outputs": [
    {
     "name": "stdout",
     "output_type": "stream",
     "text": [
      "Basic Classifier no Scaling Test Accuracy: 0.7307692307692307\n",
      "Basic Classifier with Scaling Test Accuracy: 0.7307692307692307\n",
      "Tuned Classifier Test Accuracy: 0.7384615384615385\n",
      "Tuned Classifier with PCA and Scaling Test Accuracy: 0.6576923076923077\n",
      "Tuned Classifier with PCA & No Scaling Test Accuracy: 0.8423076923076923\n"
     ]
    }
   ],
   "source": [
    "#Dictionary of pipelines and classifier types for ease of reference\n",
    "pipe_dict = {0: 'Basic Classifier no Scaling', 1: 'Basic Classifier with Scaling', 2: 'Tuned Classifier',\n",
    "             3: 'Tuned Classifier with PCA and Scaling', 4: 'Tuned Classifier with PCA & No Scaling'}\n",
    "\n",
    "for pipe in pipelines:\n",
    "    pipe.fit(train_set_features, y_train)\n",
    "    \n",
    "for i,model in enumerate(pipelines):\n",
    "    print(\"{} Test Accuracy: {}\".format(pipe_dict[i],model.score(test_set_features,y_test)))"
   ]
  },
  {
   "cell_type": "markdown",
   "metadata": {},
   "source": [
    "Scaling the data set does not make a difference if PCA is not applied, as evidenced by the equal test accuracies in the first 2 classifiers above"
   ]
  },
  {
   "cell_type": "code",
   "execution_count": 101,
   "metadata": {},
   "outputs": [
    {
     "name": "stdout",
     "output_type": "stream",
     "text": [
      "Classifier with best accuracy: Tuned Classifier with PCA & No Scaling\n"
     ]
    }
   ],
   "source": [
    "for i,model in enumerate(pipelines):\n",
    "    if model.score(test_set_features,y_test)>best_accuracy:\n",
    "        best_accuracy=model.score(test_set_features,y_test)\n",
    "        best_pipeline=model\n",
    "        best_classifier=i\n",
    "print('Classifier with best accuracy: {}'.format(pipe_dict[best_classifier]))"
   ]
  },
  {
   "cell_type": "markdown",
   "metadata": {},
   "source": [
    "# PCA with 2 components (For Visualisation)"
   ]
  },
  {
   "cell_type": "code",
   "execution_count": 102,
   "metadata": {},
   "outputs": [
    {
     "name": "stdout",
     "output_type": "stream",
     "text": [
      "(1040, 2)\n",
      "(260, 2)\n"
     ]
    }
   ],
   "source": [
    "pca_2 = PCA(n_components=2)\n",
    "\n",
    "pca_2.fit(train_set_features)\n",
    "\n",
    "x_train_2 = pca_2.transform(train_set_features)\n",
    "x_test_2 = pca_2.transform(test_set_features)\n",
    "\n",
    "print(x_train_2.shape)\n",
    "print(x_test_2.shape)"
   ]
  },
  {
   "cell_type": "code",
   "execution_count": 103,
   "metadata": {},
   "outputs": [],
   "source": [
    "clf_PCA_2 = ExtraTreesClassifier(n_estimators = 100, random_state=42)\n",
    "\n",
    "clf_PCA_2.fit(x_train_2, train_set_labels)\n",
    "\n",
    "pred = clf_PCA_2.predict(x_test_2)"
   ]
  },
  {
   "cell_type": "code",
   "execution_count": 104,
   "metadata": {},
   "outputs": [
    {
     "data": {
      "text/plain": [
       "0.46888037306329966"
      ]
     },
     "execution_count": 104,
     "metadata": {},
     "output_type": "execute_result"
    }
   ],
   "source": [
    "np.sum(pca_2.explained_variance_)/np.sum(np.var(train_set_features, axis=0))"
   ]
  },
  {
   "cell_type": "markdown",
   "metadata": {},
   "source": [
    "0.47 variance explained only using 2 components"
   ]
  },
  {
   "cell_type": "code",
   "execution_count": 105,
   "metadata": {},
   "outputs": [
    {
     "data": {
      "text/plain": [
       "0.4576923076923077"
      ]
     },
     "execution_count": 105,
     "metadata": {},
     "output_type": "execute_result"
    }
   ],
   "source": [
    "accuracy_score(y_test, pred)"
   ]
  },
  {
   "cell_type": "markdown",
   "metadata": {},
   "source": [
    "only 0.45 accuracy with the 2 most important components"
   ]
  },
  {
   "cell_type": "code",
   "execution_count": 106,
   "metadata": {},
   "outputs": [
    {
     "data": {
      "image/png": "[encoded data removed]",
      "text/plain": [
       "<Figure size 432x288 with 1 Axes>"
      ]
     },
     "metadata": {},
     "output_type": "display_data"
    }
   ],
   "source": [
    "plt.style.use('fivethirtyeight')\n",
    "x = x_train_2\n",
    "y = y_train.values\n",
    "for i in range(1040):\n",
    "    if y[i]==0:\n",
    "        plt.scatter(x[i,1],x[i,0],c='r')\n",
    "    elif y[i]==1:\n",
    "        plt.scatter(x[i,1],x[i,0],c='g')\n",
    "    elif y[i]==2:\n",
    "        plt.scatter(x[i,1],x[i,0],c='b')\n",
    "plt.show()"
   ]
  },
  {
   "cell_type": "markdown",
   "metadata": {},
   "source": [
    "We see no discernable way of realising a pattern for the labels based on just 2 components, which is not surprising given that random guessing on an equal distribution for 3 labels would result in an accuracy of 0.33, not far off from 0.45"
   ]
  },
  {
   "cell_type": "markdown",
   "metadata": {},
   "source": [
    "Notice Low CV, Recall, Percision, and f1 scores"
   ]
  },
  {
   "cell_type": "code",
   "execution_count": 107,
   "metadata": {},
   "outputs": [
    {
     "data": {
      "text/plain": [
       "array([0.43062201, 0.36842105, 0.40384615, 0.29468599, 0.36714976])"
      ]
     },
     "execution_count": 107,
     "metadata": {},
     "output_type": "execute_result"
    }
   ],
   "source": [
    "cross_val_score(clf_PCA_2, x_train_2, y_train, cv=5, scoring = 'accuracy')"
   ]
  },
  {
   "cell_type": "code",
   "execution_count": 108,
   "metadata": {},
   "outputs": [
    {
     "data": {
      "text/plain": [
       "0.45762338208986636"
      ]
     },
     "execution_count": 108,
     "metadata": {},
     "output_type": "execute_result"
    }
   ],
   "source": [
    "precision_score(y_test, pred, average = 'weighted')"
   ]
  },
  {
   "cell_type": "code",
   "execution_count": 109,
   "metadata": {},
   "outputs": [
    {
     "data": {
      "text/plain": [
       "0.4576923076923077"
      ]
     },
     "execution_count": 109,
     "metadata": {},
     "output_type": "execute_result"
    }
   ],
   "source": [
    "recall_score(y_test, pred, average = 'weighted')"
   ]
  },
  {
   "cell_type": "code",
   "execution_count": 110,
   "metadata": {},
   "outputs": [
    {
     "data": {
      "text/plain": [
       "0.4576473234367971"
      ]
     },
     "execution_count": 110,
     "metadata": {},
     "output_type": "execute_result"
    }
   ],
   "source": [
    "f1_score(y_test, pred, average = 'weighted')"
   ]
  },
  {
   "cell_type": "markdown",
   "metadata": {},
   "source": [
    "## ROC Curve Comparison between models"
   ]
  },
  {
   "cell_type": "markdown",
   "metadata": {},
   "source": [
    "Because all the classifiers are multiclass, we will use macro and micro averaging to get the roc curves for comparing classifiers"
   ]
  },
  {
   "cell_type": "markdown",
   "metadata": {},
   "source": [
    "### ROC Curve for Basic Model Without Hyperparameter Tuning (Our Baseline)"
   ]
  },
  {
   "cell_type": "code",
   "execution_count": 111,
   "metadata": {},
   "outputs": [
    {
     "data": {
      "image/png": "[encoded data removed]",
      "text/plain": [
       "<Figure size 576x396 with 1 Axes>"
      ]
     },
     "metadata": {},
     "output_type": "display_data"
    },
    {
     "data": {
      "text/plain": [
       "<matplotlib.axes._subplots.AxesSubplot at 0x26a8fafddd8>"
      ]
     },
     "execution_count": 111,
     "metadata": {},
     "output_type": "execute_result"
    }
   ],
   "source": [
    "from yellowbrick.classifier import ROCAUC\n",
    "\n",
    "visualizer = ROCAUC(clf, classes=[\"0\", \"1\", \"2\"], marco = True, per_class = False, micro = True)\n",
    "\n",
    "visualizer.fit(x_train_std, y_train)        # Fit the training data to the visualizer\n",
    "visualizer.score(x_test_std, y_test)        # Evaluate the model on the test data\n",
    "visualizer.show()                           # Finalize and render the figure"
   ]
  },
  {
   "cell_type": "markdown",
   "metadata": {},
   "source": [
    "### ROC Curve for Model after Hyperparameter Tuning (no PCA)"
   ]
  },
  {
   "cell_type": "code",
   "execution_count": 112,
   "metadata": {},
   "outputs": [
    {
     "data": {
      "image/png": "[encoded data removed]",
      "text/plain": [
       "<Figure size 576x396 with 1 Axes>"
      ]
     },
     "metadata": {},
     "output_type": "display_data"
    },
    {
     "data": {
      "text/plain": [
       "<matplotlib.axes._subplots.AxesSubplot at 0x26a8fb73be0>"
      ]
     },
     "execution_count": 112,
     "metadata": {},
     "output_type": "execute_result"
    }
   ],
   "source": [
    "visualizer2 = ROCAUC(clf_GCV, classes=[\"0\", \"1\", \"2\"], marco = True, per_class = False, micro = True)\n",
    "\n",
    "visualizer2.fit(x_train_std, y_train)        \n",
    "visualizer2.score(x_test_std, y_test)        \n",
    "visualizer2.show()           "
   ]
  },
  {
   "cell_type": "markdown",
   "metadata": {},
   "source": [
    "### ROC Curve for Model after Hyperparameter Tuning (with PCA = 0.95, with scaling data)"
   ]
  },
  {
   "cell_type": "code",
   "execution_count": 113,
   "metadata": {},
   "outputs": [
    {
     "data": {
      "image/png": "[encoded data removed]",
      "text/plain": [
       "<Figure size 576x396 with 1 Axes>"
      ]
     },
     "metadata": {},
     "output_type": "display_data"
    },
    {
     "data": {
      "text/plain": [
       "<matplotlib.axes._subplots.AxesSubplot at 0x26a8fbd1438>"
      ]
     },
     "execution_count": 113,
     "metadata": {},
     "output_type": "execute_result"
    }
   ],
   "source": [
    "visualizer3 = ROCAUC(clf_RCV_PCA, classes=[\"0\", \"1\", \"2\"], marco = True, per_class = False, micro = True)\n",
    "\n",
    "visualizer3.fit(x_train_transformed, y_train)        \n",
    "visualizer3.score(x_test_transformed, y_test)      \n",
    "visualizer3.show()                          "
   ]
  },
  {
   "cell_type": "markdown",
   "metadata": {},
   "source": [
    "significant accuracy degredation when we scale the data and apply PCA = 0.95"
   ]
  },
  {
   "cell_type": "markdown",
   "metadata": {},
   "source": [
    "### ROC Curve for Model after Hyperparameter Tuning (with PCA=15, without scaling data) (Best Model Found)"
   ]
  },
  {
   "cell_type": "code",
   "execution_count": 114,
   "metadata": {
    "scrolled": false
   },
   "outputs": [
    {
     "data": {
      "image/png": "[encoded data removed]",
      "text/plain": [
       "<Figure size 576x396 with 1 Axes>"
      ]
     },
     "metadata": {},
     "output_type": "display_data"
    },
    {
     "data": {
      "text/plain": [
       "<matplotlib.axes._subplots.AxesSubplot at 0x26a8f8474e0>"
      ]
     },
     "execution_count": 114,
     "metadata": {},
     "output_type": "execute_result"
    }
   ],
   "source": [
    "visualizer4 = ROCAUC(clf_GCV_15, classes=[\"0\", \"1\", \"2\"], marco = True, per_class = False, micro = True)\n",
    "\n",
    "visualizer4.fit(x_train_15, y_train)        \n",
    "visualizer4.score(x_test_15, y_test)      \n",
    "visualizer4.show()                                    "
   ]
  },
  {
   "cell_type": "markdown",
   "metadata": {},
   "source": [
    "Highest ROC curve found"
   ]
  },
  {
   "cell_type": "markdown",
   "metadata": {},
   "source": [
    "### ROC Curve for model with Just 2 Principal Components"
   ]
  },
  {
   "cell_type": "code",
   "execution_count": 115,
   "metadata": {},
   "outputs": [
    {
     "data": {
      "image/png": "[encoded data removed]",
      "text/plain": [
       "<Figure size 576x396 with 1 Axes>"
      ]
     },
     "metadata": {},
     "output_type": "display_data"
    },
    {
     "data": {
      "text/plain": [
       "<matplotlib.axes._subplots.AxesSubplot at 0x26add504ef0>"
      ]
     },
     "execution_count": 115,
     "metadata": {},
     "output_type": "execute_result"
    }
   ],
   "source": [
    "visualizer5 = ROCAUC(clf_PCA_2, classes=[\"0\", \"1\", \"2\"], marco = True, per_class=False, micro = True)\n",
    "\n",
    "visualizer5.fit(x_train_2, y_train)        \n",
    "visualizer5.score(x_test_2, y_test)      \n",
    "visualizer5.show()                                 "
   ]
  },
  {
   "cell_type": "markdown",
   "metadata": {},
   "source": [
    "With just 2 components, model prediction is still better than random guessing, but not by much, which explains why we couldn't clearly notice a pattern in the scatter plot with PCA = 2"
   ]
  },
  {
   "cell_type": "markdown",
   "metadata": {},
   "source": [
    "## Confusion matrix comparison between baseline classifier and best classifier found"
   ]
  },
  {
   "cell_type": "markdown",
   "metadata": {},
   "source": [
    "### Baseline Model Confusion Matrix"
   ]
  },
  {
   "cell_type": "code",
   "execution_count": 116,
   "metadata": {},
   "outputs": [
    {
     "data": {
      "image/png": "[encoded data removed]",
      "text/plain": [
       "<Figure size 576x396 with 1 Axes>"
      ]
     },
     "metadata": {},
     "output_type": "display_data"
    },
    {
     "data": {
      "text/plain": [
       "<Figure size 576x396 with 0 Axes>"
      ]
     },
     "metadata": {},
     "output_type": "display_data"
    }
   ],
   "source": [
    "from yellowbrick.classifier import confusion_matrix\n",
    "\n",
    "confusion_matrix(\n",
    "    clf,\n",
    "    x_train_std, y_train, x_test_std, y_test,\n",
    "    classes=['1', '0', '2']\n",
    ")\n",
    "plt.tight_layout()"
   ]
  },
  {
   "cell_type": "markdown",
   "metadata": {},
   "source": [
    "### Best Model Confusion Matrix"
   ]
  },
  {
   "cell_type": "code",
   "execution_count": 117,
   "metadata": {},
   "outputs": [
    {
     "data": {
      "image/png": "[encoded data removed]",
      "text/plain": [
       "<Figure size 576x396 with 1 Axes>"
      ]
     },
     "metadata": {},
     "output_type": "display_data"
    },
    {
     "data": {
      "text/plain": [
       "<Figure size 576x396 with 0 Axes>"
      ]
     },
     "metadata": {},
     "output_type": "display_data"
    }
   ],
   "source": [
    "confusion_matrix(\n",
    "    clf_GCV_15,\n",
    "    x_train_15, y_train, x_test_15, y_test,\n",
    "    classes=['1', '0', '2']\n",
    ")\n",
    "plt.tight_layout()"
   ]
  },
  {
   "cell_type": "markdown",
   "metadata": {},
   "source": [
    "As we can see, there are less misclassifications in the best model we found when compared to the baseline one with no hyperparameter tuning"
   ]
  },
  {
   "cell_type": "markdown",
   "metadata": {},
   "source": [
    "## Conclusion"
   ]
  },
  {
   "cell_type": "markdown",
   "metadata": {},
   "source": [
    "The best classifier found was the ExtraTrees classifier when applying PCA=15 to the unscaled data set, which dropped 15 components from the model, and then using RandomizedSearchCV to scan a large hyperparameter grid to have an idea where the best performance lies, then using a more specific, smaller parameter grid with GridSearchCV to find the optimal hyperparameters, which reults in the highest AUCROC, Cross_val and Accuracy scores\n",
    "\n",
    "The highest accuracy achieved was 84%, an 11% improvement from the baseline model with no tuning or use of PCA\n",
    "\n",
    "It was also found that scaling the data did not affect model accuracy if PCA was not applied afterwards, however if we reduce the dimensions via PCA, scaling before doing so severely reduces model performance\n",
    "\n",
    "The best parameters found are:"
   ]
  },
  {
   "cell_type": "code",
   "execution_count": 118,
   "metadata": {},
   "outputs": [
    {
     "data": {
      "text/plain": [
       "{'bootstrap': False,\n",
       " 'criterion': 'gini',\n",
       " 'max_depth': 30,\n",
       " 'max_features': 'sqrt',\n",
       " 'min_samples_leaf': 1,\n",
       " 'min_samples_split': 2,\n",
       " 'n_estimators': 1000}"
      ]
     },
     "execution_count": 118,
     "metadata": {},
     "output_type": "execute_result"
    }
   ],
   "source": [
    "clf_GCV_15.best_params_"
   ]
  },
  {
   "cell_type": "markdown",
   "metadata": {},
   "source": [
    "The best pipeline is:"
   ]
  },
  {
   "cell_type": "code",
   "execution_count": 119,
   "metadata": {},
   "outputs": [
    {
     "name": "stdout",
     "output_type": "stream",
     "text": [
      "Pipeline(memory=None,\n",
      "         steps=[('pca_15',\n",
      "                 PCA(copy=True, iterated_power='auto', n_components=15,\n",
      "                     random_state=None, svd_solver='auto', tol=0.0,\n",
      "                     whiten=False)),\n",
      "                ('clf_GCV_15',\n",
      "                 ExtraTreesClassifier(bootstrap=False, class_weight=None,\n",
      "                                      criterion='gini', max_depth=30,\n",
      "                                      max_features='sqrt', max_leaf_nodes=None,\n",
      "                                      min_impurity_decrease=0.0,\n",
      "                                      min_impurity_split=None,\n",
      "                                      min_samples_leaf=1, min_samples_split=2,\n",
      "                                      min_weight_fraction_leaf=0.0,\n",
      "                                      n_estimators=1000, n_jobs=None,\n",
      "                                      oob_score=False, random_state=42,\n",
      "                                      verbose=0, warm_start=False))],\n",
      "         verbose=False)\n"
     ]
    }
   ],
   "source": [
    "print(best_pipeline)"
   ]
  },
  {
   "cell_type": "markdown",
   "metadata": {},
   "source": [
    "The number of principal components used was 15"
   ]
  }
 ],
 "metadata": {
  "kernelspec": {
   "display_name": "Python 3",
   "language": "python",
   "name": "python3"
  },
  "language_info": {
   "codemirror_mode": {
    "name": "ipython",
    "version": 3
   },
   "file_extension": ".py",
   "mimetype": "text/x-python",
   "name": "python",
   "nbconvert_exporter": "python",
   "pygments_lexer": "ipython3",
   "version": "3.7.3"
  }
 },
 "nbformat": 4,
 "nbformat_minor": 2
}
